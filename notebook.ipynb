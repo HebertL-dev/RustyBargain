{
 "cells": [
  {
   "cell_type": "markdown",
   "metadata": {},
   "source": [
    "# Hola &#x1F600;,\n",
    "\n",
    "Soy **Hesus Garcia** – **\"Soy el único Hesus que conoces (y probablemente conocerás) 🌟\"** – Sí, como \"Jesús\", pero con una H que me hace único. Puede sonar raro, pero créeme, ¡no lo olvidarás! Como tu revisor en Triple-Ten, estoy aquí para guiarte y ayudarte a mejorar tu código. Si algo necesita un ajuste, no hay de qué preocuparse; ¡aquí estoy para hacer que tu trabajo brille con todo su potencial! ✨\n",
    "\n",
    "Cada vez que encuentre un detalle importante en tu código, te lo señalaré para que puedas corregirlo y así te prepares para un ambiente de trabajo real, donde el líder de tu equipo actuaría de manera similar. Si en algún momento no logras solucionar el problema, te daré más detalles para ayudarte en nuestra próxima oportunidad de revisión.\n",
    "\n",
    "Es importante que cuando encuentres un comentario, **no los muevas, no los modifiques, ni los borres**.\n",
    "\n",
    "---\n",
    "\n",
    "### Formato de Comentarios\n",
    "\n",
    "Revisaré cuidadosamente cada implementación en tu notebook para asegurar que cumpla con los requisitos y te daré comentarios de acuerdo al siguiente formato:\n",
    "\n",
    "\n",
    "<div class=\"alert alert-block alert-success\">\n",
    "<b>Comentario del revisor</b> <a class=\"tocSkip\"></a><br>\n",
    "    \n",
    "<b>Éxito</b> - ¡Excelente trabajo! Esta parte está bien implementada y contribuye significativamente al análisis de datos o al proyecto. Continúa aplicando estas buenas prácticas en futuras secciones.\n",
    "    \n",
    "</div>\n",
    "\n",
    "<div class=\"alert alert-block alert-warning\">\n",
    "<b>Comentario del revisor</b> <a class=\"tocSkip\"></a><br>\n",
    "    \n",
    "<b>Atención</b> ⚠️ - Este código está correcto, pero se puede optimizar. Considera implementar mejoras para que sea más eficiente y fácil de leer. Esto fortalecerá la calidad de tu proyecto.\n",
    "    \n",
    "</div>\n",
    "\n",
    "<div class=\"alert alert-block alert-danger\">\n",
    "<b>Comentario del revisor</b> <a class=\"tocSkip\"></a><br>\n",
    "    \n",
    "<b>A resolver</b> ❗ - Aquí hay un problema o error en el código que es necesario corregir para aprobar esta sección. Por favor, revisa y corrige este punto, ya que es fundamental para la validez del análisis y la precisión de los resultados.\n",
    "    \n",
    "</div>\n",
    "\n",
    "---\n",
    "\n",
    "Al final de cada revisión, recibirás un **Comentario General del Revisor** que incluirá:\n",
    "\n",
    "- **Aspectos positivos:** Un resumen de los puntos fuertes de tu proyecto.\n",
    "- **Áreas de mejora:** Sugerencias sobre aspectos donde puedes mejorar.\n",
    "- **Temas adicionales para investigar:** Ideas de temas opcionales que puedes explorar por tu cuenta para desarrollar aún más tus habilidades.\n",
    "\n",
    "Estos temas adicionales no son obligatorios en esta etapa, pero pueden serte útiles para profundizar en el futuro.\n",
    "\n",
    "---\n",
    "\n",
    "\n",
    "Esta estructura en viñetas facilita la lectura y comprensión de cada parte del comentario final.\n",
    "\n",
    "También puedes responderme de la siguiente manera si tienes alguna duda o quieres aclarar algo específico:\n",
    "\n",
    "\n",
    "<div class=\"alert alert-block alert-info\">\n",
    "<b>Respuesta del estudiante</b> <a class=\"tocSkip\"></a>\n",
    "    \n",
    "Aquí puedes escribir tu respuesta o pregunta sobre el comentario.\n",
    "    \n",
    "</div>\n",
    "\n",
    "\n",
    "**¡Empecemos!** &#x1F680;\n",
    "\n",
    "\n",
    "\n",
    "\n",
    "\n",
    "\n",
    "\n",
    "\n",
    "\n",
    "\n",
    "\n",
    "\n"
   ]
  },
  {
   "cell_type": "markdown",
   "metadata": {},
   "source": [
    "El servicio de venta de autos usados Rusty Bargain está desarrollando una aplicación para atraer nuevos clientes. Gracias a esa app, puedes averiguar rápidamente el valor de mercado de tu coche. Tienes acceso al historial: especificaciones técnicas, versiones de equipamiento y precios. Tienes que crear un modelo que determine el valor de mercado.\n",
    "A Rusty Bargain le interesa:\n",
    "- la calidad de la predicción;\n",
    "- la velocidad de la predicción;\n",
    "- el tiempo requerido para el entrenamiento"
   ]
  },
  {
   "cell_type": "markdown",
   "metadata": {},
   "source": [
    "## Preparación de datos"
   ]
  },
  {
   "cell_type": "code",
   "execution_count": 41,
   "metadata": {},
   "outputs": [],
   "source": [
    "import pandas as pd\n",
    "import matplotlib.pyplot as plt\n",
    "import seaborn as sns\n",
    "import time\n",
    "from sklearn.model_selection import train_test_split\n",
    "from sklearn.preprocessing import LabelEncoder\n",
    "from sklearn.preprocessing import OneHotEncoder\n",
    "from sklearn.metrics import mean_absolute_error, r2_score\n",
    "\n",
    "\n",
    "from sklearn.linear_model import LinearRegression\n",
    "from sklearn.ensemble import RandomForestRegressor\n",
    "import lightgbm as lgb\n",
    "from xgboost import XGBRegressor\n",
    "from catboost import CatBoostRegressor"
   ]
  },
  {
   "cell_type": "code",
   "execution_count": 2,
   "metadata": {},
   "outputs": [
    {
     "name": "stdout",
     "output_type": "stream",
     "text": [
      "<class 'pandas.core.frame.DataFrame'>\n",
      "RangeIndex: 354369 entries, 0 to 354368\n",
      "Data columns (total 16 columns):\n",
      " #   Column             Non-Null Count   Dtype \n",
      "---  ------             --------------   ----- \n",
      " 0   DateCrawled        354369 non-null  object\n",
      " 1   Price              354369 non-null  int64 \n",
      " 2   VehicleType        316879 non-null  object\n",
      " 3   RegistrationYear   354369 non-null  int64 \n",
      " 4   Gearbox            334536 non-null  object\n",
      " 5   Power              354369 non-null  int64 \n",
      " 6   Model              334664 non-null  object\n",
      " 7   Mileage            354369 non-null  int64 \n",
      " 8   RegistrationMonth  354369 non-null  int64 \n",
      " 9   FuelType           321474 non-null  object\n",
      " 10  Brand              354369 non-null  object\n",
      " 11  NotRepaired        283215 non-null  object\n",
      " 12  DateCreated        354369 non-null  object\n",
      " 13  NumberOfPictures   354369 non-null  int64 \n",
      " 14  PostalCode         354369 non-null  int64 \n",
      " 15  LastSeen           354369 non-null  object\n",
      "dtypes: int64(7), object(9)\n",
      "memory usage: 43.3+ MB\n"
     ]
    }
   ],
   "source": [
    "df = pd.read_csv(\"/datasets/car_data.csv\")\n",
    "df.info()"
   ]
  },
  {
   "cell_type": "code",
   "execution_count": 3,
   "metadata": {},
   "outputs": [
    {
     "data": {
      "text/plain": [
       "sedan          91457\n",
       "small          79831\n",
       "wagon          65166\n",
       "bus            28775\n",
       "convertible    20203\n",
       "coupe          16163\n",
       "suv            11996\n",
       "other           3288\n",
       "Name: VehicleType, dtype: int64"
      ]
     },
     "execution_count": 3,
     "metadata": {},
     "output_type": "execute_result"
    }
   ],
   "source": [
    "df['VehicleType'].value_counts()"
   ]
  },
  {
   "cell_type": "code",
   "execution_count": 4,
   "metadata": {},
   "outputs": [
    {
     "name": "stdout",
     "output_type": "stream",
     "text": [
      "        DateCrawled  Price VehicleType  RegistrationYear Gearbox  Power  \\\n",
      "0  24/03/2016 11:52    480         NaN              1993  manual      0   \n",
      "1  24/03/2016 10:58  18300       coupe              2011  manual    190   \n",
      "2  14/03/2016 12:52   9800         suv              2004    auto    163   \n",
      "3  17/03/2016 16:54   1500       small              2001  manual     75   \n",
      "4  31/03/2016 17:25   3600       small              2008  manual     69   \n",
      "\n",
      "   Model  Mileage  RegistrationMonth  FuelType       Brand NotRepaired  \\\n",
      "0   golf   150000                  0    petrol  volkswagen         NaN   \n",
      "1    NaN   125000                  5  gasoline        audi         yes   \n",
      "2  grand   125000                  8  gasoline        jeep         NaN   \n",
      "3   golf   150000                  6    petrol  volkswagen          no   \n",
      "4  fabia    90000                  7  gasoline       skoda          no   \n",
      "\n",
      "        DateCreated  NumberOfPictures  PostalCode          LastSeen  \n",
      "0  24/03/2016 00:00                 0       70435  07/04/2016 03:16  \n",
      "1  24/03/2016 00:00                 0       66954  07/04/2016 01:46  \n",
      "2  14/03/2016 00:00                 0       90480  05/04/2016 12:47  \n",
      "3  17/03/2016 00:00                 0       91074  17/03/2016 17:40  \n",
      "4  31/03/2016 00:00                 0       60437  06/04/2016 10:17  \n",
      "DateCrawled              0\n",
      "Price                    0\n",
      "VehicleType          37490\n",
      "RegistrationYear         0\n",
      "Gearbox              19833\n",
      "Power                    0\n",
      "Model                19705\n",
      "Mileage                  0\n",
      "RegistrationMonth        0\n",
      "FuelType             32895\n",
      "Brand                    0\n",
      "NotRepaired          71154\n",
      "DateCreated              0\n",
      "NumberOfPictures         0\n",
      "PostalCode               0\n",
      "LastSeen                 0\n",
      "dtype: int64\n",
      "               Price  RegistrationYear          Power        Mileage  \\\n",
      "count  354369.000000     354369.000000  354369.000000  354369.000000   \n",
      "mean     4416.656776       2004.234448     110.094337  128211.172535   \n",
      "std      4514.158514         90.227958     189.850405   37905.341530   \n",
      "min         0.000000       1000.000000       0.000000    5000.000000   \n",
      "25%      1050.000000       1999.000000      69.000000  125000.000000   \n",
      "50%      2700.000000       2003.000000     105.000000  150000.000000   \n",
      "75%      6400.000000       2008.000000     143.000000  150000.000000   \n",
      "max     20000.000000       9999.000000   20000.000000  150000.000000   \n",
      "\n",
      "       RegistrationMonth  NumberOfPictures     PostalCode  \n",
      "count      354369.000000          354369.0  354369.000000  \n",
      "mean            5.714645               0.0   50508.689087  \n",
      "std             3.726421               0.0   25783.096248  \n",
      "min             0.000000               0.0    1067.000000  \n",
      "25%             3.000000               0.0   30165.000000  \n",
      "50%             6.000000               0.0   49413.000000  \n",
      "75%             9.000000               0.0   71083.000000  \n",
      "max            12.000000               0.0   99998.000000  \n"
     ]
    }
   ],
   "source": [
    "# Display the first few rows of the dataset\n",
    "print(df.head())\n",
    "\n",
    "# Check for missing values\n",
    "print(df.isnull().sum())\n",
    "\n",
    "# Get basic statistics for numerical columns\n",
    "print(df.describe())\n"
   ]
  },
  {
   "cell_type": "code",
   "execution_count": 5,
   "metadata": {},
   "outputs": [
    {
     "name": "stdout",
     "output_type": "stream",
     "text": [
      "Vehicle Type\n",
      "[nan 'coupe' 'suv' 'small' 'sedan' 'convertible' 'bus' 'wagon' 'other']\n",
      "///////////////////////////////////////////\n",
      "Gear Box\n",
      "['manual' 'auto' nan]\n",
      "///////////////////////////////////////////\n",
      "Fuel Type\n",
      "['petrol' 'gasoline' nan 'lpg' 'other' 'hybrid' 'cng' 'electric']\n",
      "///////////////////////////////////////////\n",
      "Brand\n",
      "['volkswagen' 'audi' 'jeep' 'skoda' 'bmw' 'peugeot' 'ford' 'mazda'\n",
      " 'nissan' 'renault' 'mercedes_benz' 'opel' 'seat' 'citroen' 'honda' 'fiat'\n",
      " 'mini' 'smart' 'hyundai' 'sonstige_autos' 'alfa_romeo' 'subaru' 'volvo'\n",
      " 'mitsubishi' 'kia' 'suzuki' 'lancia' 'toyota' 'chevrolet' 'dacia'\n",
      " 'daihatsu' 'trabant' 'saab' 'chrysler' 'jaguar' 'daewoo' 'porsche'\n",
      " 'rover' 'land_rover' 'lada']\n",
      "Not Repaired\n",
      "[nan 'yes' 'no']\n"
     ]
    }
   ],
   "source": [
    "# Check the unique values in categorical columns\n",
    "print(\"Vehicle Type\")\n",
    "print(df['VehicleType'].unique())\n",
    "\n",
    "print(\"///////////////////////////////////////////\\nGear Box\")\n",
    "print(df['Gearbox'].unique())\n",
    "\n",
    "print(\"///////////////////////////////////////////\\nFuel Type\")\n",
    "print(df['FuelType'].unique())\n",
    "\n",
    "print(\"///////////////////////////////////////////\\nBrand\")\n",
    "print(df['Brand'].unique())\n",
    "\n",
    "print(\"Not Repaired\")\n",
    "print(df['NotRepaired'].unique())\n"
   ]
  },
  {
   "cell_type": "code",
   "execution_count": 6,
   "metadata": {},
   "outputs": [
    {
     "data": {
      "text/plain": [
       "'Aqui empezamos con el limpiado de datos'"
      ]
     },
     "execution_count": 6,
     "metadata": {},
     "output_type": "execute_result"
    }
   ],
   "source": [
    "\"Aqui empezamos con el limpiado de datos\""
   ]
  },
  {
   "cell_type": "code",
   "execution_count": 7,
   "metadata": {},
   "outputs": [
    {
     "name": "stdout",
     "output_type": "stream",
     "text": [
      "0   2016-03-24 11:52:00\n",
      "1   2016-03-24 10:58:00\n",
      "2   2016-03-14 12:52:00\n",
      "3   2016-03-17 16:54:00\n",
      "4   2016-03-31 17:25:00\n",
      "Name: DateCrawled, dtype: datetime64[ns]\n",
      "          DateCrawled  YearCrawled  MonthCrawled  DayCrawled  HourCrawled  \\\n",
      "0 2016-03-24 11:52:00         2016             3          24           11   \n",
      "1 2016-03-24 10:58:00         2016             3          24           10   \n",
      "2 2016-03-14 12:52:00         2016             3          14           12   \n",
      "3 2016-03-17 16:54:00         2016             3          17           16   \n",
      "4 2016-03-31 17:25:00         2016             3          31           17   \n",
      "\n",
      "   DayOfWeekCrawled  \n",
      "0                 3  \n",
      "1                 3  \n",
      "2                 0  \n",
      "3                 3  \n",
      "4                 3  \n"
     ]
    }
   ],
   "source": [
    "# Muestra las primeras filas de la columna DateCrawled\n",
    "df['DateCrawled'] = pd.to_datetime(df['DateCrawled'], format='%d/%m/%Y %H:%M')\n",
    "print(df['DateCrawled'].head())\n",
    "# Extraer características numéricas\n",
    "df['YearCrawled'] = df['DateCrawled'].dt.year\n",
    "df['MonthCrawled'] = df['DateCrawled'].dt.month\n",
    "df['DayCrawled'] = df['DateCrawled'].dt.day\n",
    "df['HourCrawled'] = df['DateCrawled'].dt.hour\n",
    "df['DayOfWeekCrawled'] = df['DateCrawled'].dt.dayofweek  # Lunes=0, Domingo=6\n",
    "\n",
    "# Mostrar las primeras filas para verificar\n",
    "print(df[['DateCrawled', 'YearCrawled', 'MonthCrawled', 'DayCrawled', 'HourCrawled', 'DayOfWeekCrawled']].head())\n",
    "\n",
    "# Eliminar la columna original DateCrawled\n",
    "df = df.drop('DateCrawled', axis=1)"
   ]
  },
  {
   "cell_type": "code",
   "execution_count": 8,
   "metadata": {},
   "outputs": [
    {
     "name": "stdout",
     "output_type": "stream",
     "text": [
      "   YearLastSeen  MonthLastSeen  DayLastSeen  HourLastSeen  DayOfWeekLastSeen\n",
      "0          2016              4            7             3                  3\n",
      "1          2016              4            7             1                  3\n",
      "2          2016              4            5            12                  1\n",
      "3          2016              3           17            17                  3\n",
      "4          2016              4            6            10                  2\n"
     ]
    }
   ],
   "source": [
    "df['LastSeen'] = pd.to_datetime(df['LastSeen'], format='%d/%m/%Y %H:%M')\n",
    "# Extraer características numéricas\n",
    "df['YearLastSeen'] = df['LastSeen'].dt.year\n",
    "df['MonthLastSeen'] = df['LastSeen'].dt.month\n",
    "df['DayLastSeen'] = df['LastSeen'].dt.day\n",
    "df['HourLastSeen'] = df['LastSeen'].dt.hour\n",
    "df['DayOfWeekLastSeen'] = df['LastSeen'].dt.dayofweek\n",
    "\n",
    "# Eliminar la columna original LastSeen\n",
    "df = df.drop('LastSeen', axis=1)\n",
    "\n",
    "# Verificar la conversión\n",
    "print(df[['YearLastSeen', 'MonthLastSeen', 'DayLastSeen', 'HourLastSeen', 'DayOfWeekLastSeen']].head())\n"
   ]
  },
  {
   "cell_type": "code",
   "execution_count": 9,
   "metadata": {},
   "outputs": [
    {
     "name": "stdout",
     "output_type": "stream",
     "text": [
      "   YearCreated  MonthCreated  DayCreated\n",
      "0         2016             3          24\n",
      "1         2016             3          24\n",
      "2         2016             3          14\n",
      "3         2016             3          17\n",
      "4         2016             3          31\n"
     ]
    }
   ],
   "source": [
    "# Convertir DateCreated a tipo datetime\n",
    "df['DateCreated'] = pd.to_datetime(df['DateCreated'], format='%d/%m/%Y %H:%M')\n",
    "\n",
    "# Extraer características numéricas\n",
    "df['YearCreated'] = df['DateCreated'].dt.year\n",
    "df['MonthCreated'] = df['DateCreated'].dt.month\n",
    "df['DayCreated'] = df['DateCreated'].dt.day\n",
    "\n",
    "# Eliminar la columna original DateCreated\n",
    "df = df.drop('DateCreated', axis=1)\n",
    "\n",
    "# Verificar la conversión\n",
    "print(df[['YearCreated', 'MonthCreated', 'DayCreated']].head())"
   ]
  },
  {
   "cell_type": "code",
   "execution_count": 10,
   "metadata": {},
   "outputs": [
    {
     "name": "stdout",
     "output_type": "stream",
     "text": [
      "<class 'pandas.core.frame.DataFrame'>\n",
      "Int64Index: 293565 entries, 1 to 354368\n",
      "Data columns (total 26 columns):\n",
      " #   Column             Non-Null Count   Dtype \n",
      "---  ------             --------------   ----- \n",
      " 0   Price              293565 non-null  int64 \n",
      " 1   VehicleType        293565 non-null  object\n",
      " 2   RegistrationYear   293565 non-null  int64 \n",
      " 3   Gearbox            293565 non-null  object\n",
      " 4   Power              293565 non-null  int64 \n",
      " 5   Model              284126 non-null  object\n",
      " 6   Mileage            293565 non-null  int64 \n",
      " 7   RegistrationMonth  293565 non-null  int64 \n",
      " 8   FuelType           293565 non-null  object\n",
      " 9   Brand              293565 non-null  object\n",
      " 10  NotRepaired        293565 non-null  object\n",
      " 11  NumberOfPictures   293565 non-null  int64 \n",
      " 12  PostalCode         293565 non-null  int64 \n",
      " 13  YearCrawled        293565 non-null  int64 \n",
      " 14  MonthCrawled       293565 non-null  int64 \n",
      " 15  DayCrawled         293565 non-null  int64 \n",
      " 16  HourCrawled        293565 non-null  int64 \n",
      " 17  DayOfWeekCrawled   293565 non-null  int64 \n",
      " 18  YearLastSeen       293565 non-null  int64 \n",
      " 19  MonthLastSeen      293565 non-null  int64 \n",
      " 20  DayLastSeen        293565 non-null  int64 \n",
      " 21  HourLastSeen       293565 non-null  int64 \n",
      " 22  DayOfWeekLastSeen  293565 non-null  int64 \n",
      " 23  YearCreated        293565 non-null  int64 \n",
      " 24  MonthCreated       293565 non-null  int64 \n",
      " 25  DayCreated         293565 non-null  int64 \n",
      "dtypes: int64(20), object(6)\n",
      "memory usage: 60.5+ MB\n"
     ]
    }
   ],
   "source": [
    "df = df.dropna(subset=['Price', 'VehicleType', 'Gearbox', 'FuelType', 'Brand'])\n",
    "\n",
    "df['NotRepaired'] = df['NotRepaired'].fillna('unknown')\n",
    "df.info()"
   ]
  },
  {
   "cell_type": "code",
   "execution_count": 11,
   "metadata": {},
   "outputs": [
    {
     "data": {
      "text/plain": [
       "'Aqui checo los años de registro y veo sus maximos y minimos asi como checar cuantos carros hay por año, junto con un histograma.'"
      ]
     },
     "execution_count": 11,
     "metadata": {},
     "output_type": "execute_result"
    }
   ],
   "source": [
    "\"Aqui checo los años de registro y veo sus maximos y minimos asi como checar cuantos carros hay por año, junto con un histograma.\""
   ]
  },
  {
   "cell_type": "code",
   "execution_count": 12,
   "metadata": {},
   "outputs": [
    {
     "data": {
      "text/plain": [
       "2018"
      ]
     },
     "metadata": {},
     "output_type": "display_data"
    },
    {
     "data": {
      "text/plain": [
       "1910"
      ]
     },
     "metadata": {},
     "output_type": "display_data"
    },
    {
     "data": {
      "image/png": "[encoded data removed]",
      "text/plain": [
       "<Figure size 1200x600 with 1 Axes>"
      ]
     },
     "metadata": {},
     "output_type": "display_data"
    },
    {
     "name": "stdout",
     "output_type": "stream",
     "text": [
      "Cars Per Year\n",
      "\n",
      "1910    10\n",
      "1919     1\n",
      "1923     2\n",
      "1927     1\n",
      "1928     1\n",
      "1929     3\n",
      "1930     3\n",
      "1931     1\n",
      "1932     2\n",
      "1933     1\n",
      "Name: RegistrationYear, dtype: int64\n",
      "2009    13751\n",
      "2010    10255\n",
      "2011     9487\n",
      "2012     6896\n",
      "2013     3950\n",
      "2014     2406\n",
      "2015     1064\n",
      "2016      161\n",
      "2017       13\n",
      "2018        4\n",
      "Name: RegistrationYear, dtype: int64\n"
     ]
    }
   ],
   "source": [
    "display(df['RegistrationYear'].max())\n",
    "display(df['RegistrationYear'].min())\n",
    "\n",
    "plt.figure(figsize=(12, 6))\n",
    "plt.hist(df['RegistrationYear'], bins=30, edgecolor='black')\n",
    "plt.title('Distribution of Registration Years')\n",
    "plt.xlabel('Registration Year')\n",
    "plt.ylabel('Frequency')\n",
    "plt.axvline(1933, color='red', linestyle='--', label='1933')\n",
    "plt.axvline(2009, color='green', linestyle='--', label='2009')\n",
    "plt.legend()\n",
    "plt.show()\n",
    "\n",
    "print(\"Cars Per Year\\n\")\n",
    "year_counts = df['RegistrationYear'].value_counts().sort_index()\n",
    "print(year_counts.head(10))  \n",
    "print(year_counts.tail(10))  "
   ]
  },
  {
   "cell_type": "code",
   "execution_count": 13,
   "metadata": {},
   "outputs": [
    {
     "name": "stdout",
     "output_type": "stream",
     "text": [
      "Model\n",
      "gl                   16965.076923\n",
      "glk                  16823.200000\n",
      "q5                   15843.989691\n",
      "a5                   15683.762906\n",
      "q7                   15631.565445\n",
      "range_rover_sport    15273.037736\n",
      "v60                  15039.743590\n",
      "cc                   14635.570248\n",
      "q3                   14374.142857\n",
      "tiguan               14261.311075\n",
      "Name: Price, dtype: float64\n",
      "Model\n",
      "escort        955.469719\n",
      "nubira        943.725490\n",
      "cordoba       941.190031\n",
      "r19           935.186047\n",
      "seicento      837.596929\n",
      "lybra         798.209302\n",
      "samara        785.428571\n",
      "move          635.069767\n",
      "lanos         614.150000\n",
      "elefantino    489.857143\n",
      "Name: Price, dtype: float64\n"
     ]
    }
   ],
   "source": [
    "model_price = df.groupby('Model')['Price'].mean().sort_values(ascending=False)\n",
    "print(model_price.head(10))  # Top 10 most expensive models\n",
    "print(model_price.tail(10))  # Top 10 least expensive models"
   ]
  },
  {
   "cell_type": "code",
   "execution_count": 14,
   "metadata": {},
   "outputs": [
    {
     "data": {
      "image/png": "[encoded data removed]",
      "text/plain": [
       "<Figure size 1200x600 with 1 Axes>"
      ]
     },
     "metadata": {},
     "output_type": "display_data"
    }
   ],
   "source": [
    "top_models = df['Model'].value_counts().nlargest(10).index\n",
    "\n",
    "top_expensive_models = df.groupby('Model')['Price'].mean().nlargest(10).index\n",
    "\n",
    "df_top_models = df[df['Model'].isin(top_models)]\n",
    "\n",
    "plt.figure(figsize=(12, 6))\n",
    "sns.boxplot(x='Model', y='Price', data=df_top_models)\n",
    "plt.xticks(rotation=90)\n",
    "plt.title('Price Distribution for Top 10 Most Common Models')\n",
    "plt.show()"
   ]
  },
  {
   "cell_type": "code",
   "execution_count": 15,
   "metadata": {},
   "outputs": [
    {
     "name": "stdout",
     "output_type": "stream",
     "text": [
      "20000\n"
     ]
    }
   ],
   "source": [
    "df['Price'].sample(20)\n",
    "print(df['Price'].max())\n"
   ]
  },
  {
   "cell_type": "markdown",
   "metadata": {},
   "source": [
    "<div class=\"alert alert-block alert-success\">\n",
    "<b>Comentario del revisor</b> <a class=\"tocSkip\"></a><br>\n",
    "\n",
    "<b>Éxito</b> - ¡Buen trabajo en la preparación de los datos! Has realizado un análisis exploratorio inicial bastante completo, verificando información clave como valores únicos en variables categóricas, estadísticas descriptivas y detección de valores nulos. Además, la transformación de fechas para extraer características adicionales es una excelente práctica que puede mejorar la calidad del modelo. ✅\n",
    "\n",
    "</div>"
   ]
  },
  {
   "cell_type": "markdown",
   "metadata": {},
   "source": [
    "<div class=\"alert alert-block alert-warning\">\n",
    "<b>Comentario del revisor</b> <a class=\"tocSkip\"></a><br>\n",
    "\n",
    "<b>Atención</b> ⚠️ - La conversión de columnas de fecha es un buen enfoque, pero podrías optimizar el código al trabajar con pd.to_datetime() antes de la carga inicial, si es posible, y manejar errores con errors='coerce' para evitar posibles fallos en la conversión. Además, cuando eliminas valores nulos con dropna(), asegúrate de revisar cuántos datos se pierden, ya que podría afectar la calidad del modelo. Puedes agregar un print(df.shape) antes y después de la limpieza para medir su impacto. 📉\n",
    "\n",
    "</div>"
   ]
  },
  {
   "cell_type": "markdown",
   "metadata": {},
   "source": [
    "## Entrenamiento del modelo "
   ]
  },
  {
   "cell_type": "code",
   "execution_count": 16,
   "metadata": {},
   "outputs": [],
   "source": [
    "df = pd.get_dummies(df, columns=['VehicleType', 'Gearbox', 'FuelType', 'NotRepaired'], drop_first=True)\n",
    "\n",
    "label_encoder = LabelEncoder()\n",
    "\n",
    "df['Model'] = label_encoder.fit_transform(df['Model'])\n",
    "df['Brand'] = label_encoder.fit_transform(df['Brand'])"
   ]
  },
  {
   "cell_type": "code",
   "execution_count": 17,
   "metadata": {},
   "outputs": [],
   "source": [
    "X = df.drop('Price', axis=1)\n",
    "y = df['Price']\n",
    "X_train, X_test, y_train, y_test = train_test_split(X, y, test_size=0.2, random_state=42)"
   ]
  },
  {
   "cell_type": "code",
   "execution_count": 48,
   "metadata": {},
   "outputs": [
    {
     "name": "stdout",
     "output_type": "stream",
     "text": [
      "Iniciando el entrenamiento...\n",
      "Entrenamiento completado.\n",
      "RMSE (Regresión Lineal): 3163.268955037366\n",
      "R² Score (Regresión Lineal): 0.5345329036236044\n",
      "Tiempo de entrenamiento: 0.24 segundos\n"
     ]
    }
   ],
   "source": [
    "train_time_lr = None\n",
    "\n",
    "print(\"Iniciando el entrenamiento...\")\n",
    "start_time = time.time()\n",
    "lr.fit(X_train, y_train)\n",
    "end_time = time.time()\n",
    "train_time_lr = end_time - start_time\n",
    "print(\"Entrenamiento completado.\")\n",
    "\n",
    "y_pred_lr = lr.predict(X_test)\n",
    "rmse_lr = mean_squared_error(y_test, y_pred_lr, squared=False)\n",
    "r2_lr = r2_score(y_test, y_pred_lr)\n",
    "\n",
    "print(f'RMSE (Regresión Lineal): {rmse_lr}')\n",
    "print(f'R² Score (Regresión Lineal): {r2_lr}')\n",
    "print(f'Tiempo de entrenamiento: {train_time_lr:.2f} segundos')\n"
   ]
  },
  {
   "cell_type": "code",
   "execution_count": 52,
   "metadata": {},
   "outputs": [
    {
     "name": "stdout",
     "output_type": "stream",
     "text": [
      "Iniciando el entrenamiento...\n",
      "building tree 1 of 100\n",
      "building tree 2 of 100\n",
      "building tree 3 of 100\n",
      "building tree 4 of 100\n",
      "building tree 5 of 100\n",
      "building tree 6 of 100\n",
      "building tree 7 of 100\n",
      "building tree 8 of 100\n",
      "building tree 9 of 100\n",
      "building tree 10 of 100\n",
      "building tree 11 of 100\n",
      "building tree 12 of 100\n",
      "building tree 13 of 100\n",
      "building tree 14 of 100\n",
      "building tree 15 of 100\n",
      "building tree 16 of 100\n",
      "building tree 17 of 100\n",
      "building tree 18 of 100\n",
      "building tree 19 of 100\n",
      "building tree 20 of 100\n",
      "building tree 21 of 100\n",
      "building tree 22 of 100\n",
      "building tree 23 of 100\n",
      "building tree 24 of 100\n",
      "building tree 25 of 100\n",
      "building tree 26 of 100\n",
      "building tree 27 of 100\n",
      "building tree 28 of 100\n",
      "building tree 29 of 100\n",
      "building tree 30 of 100\n",
      "building tree 31 of 100\n",
      "building tree 32 of 100\n",
      "building tree 33 of 100\n",
      "building tree 34 of 100\n",
      "building tree 35 of 100\n",
      "building tree 36 of 100\n",
      "building tree 37 of 100\n",
      "building tree 38 of 100\n",
      "building tree 39 of 100\n",
      "building tree 40 of 100\n"
     ]
    },
    {
     "name": "stderr",
     "output_type": "stream",
     "text": [
      "[Parallel(n_jobs=1)]: Done  40 tasks      | elapsed:  1.2min\n"
     ]
    },
    {
     "name": "stdout",
     "output_type": "stream",
     "text": [
      "building tree 41 of 100\n",
      "building tree 42 of 100\n",
      "building tree 43 of 100\n",
      "building tree 44 of 100\n",
      "building tree 45 of 100\n",
      "building tree 46 of 100\n",
      "building tree 47 of 100\n",
      "building tree 48 of 100\n",
      "building tree 49 of 100\n",
      "building tree 50 of 100\n",
      "building tree 51 of 100\n",
      "building tree 52 of 100\n",
      "building tree 53 of 100\n",
      "building tree 54 of 100\n",
      "building tree 55 of 100\n",
      "building tree 56 of 100\n",
      "building tree 57 of 100\n",
      "building tree 58 of 100\n",
      "building tree 59 of 100\n",
      "building tree 60 of 100\n",
      "building tree 61 of 100\n",
      "building tree 62 of 100\n",
      "building tree 63 of 100\n",
      "building tree 64 of 100\n",
      "building tree 65 of 100\n",
      "building tree 66 of 100\n",
      "building tree 67 of 100\n",
      "building tree 68 of 100\n",
      "building tree 69 of 100\n",
      "building tree 70 of 100\n",
      "building tree 71 of 100\n",
      "building tree 72 of 100\n",
      "building tree 73 of 100\n",
      "building tree 74 of 100\n",
      "building tree 75 of 100\n",
      "building tree 76 of 100\n",
      "building tree 77 of 100\n",
      "building tree 78 of 100\n",
      "building tree 79 of 100\n",
      "building tree 80 of 100\n",
      "building tree 81 of 100\n",
      "building tree 82 of 100\n",
      "building tree 83 of 100\n",
      "building tree 84 of 100\n",
      "building tree 85 of 100\n",
      "building tree 86 of 100\n",
      "building tree 87 of 100\n",
      "building tree 88 of 100\n",
      "building tree 89 of 100\n",
      "building tree 90 of 100\n",
      "building tree 91 of 100\n",
      "building tree 92 of 100\n",
      "building tree 93 of 100\n",
      "building tree 94 of 100\n",
      "building tree 95 of 100\n",
      "building tree 96 of 100\n",
      "building tree 97 of 100\n",
      "building tree 98 of 100\n",
      "building tree 99 of 100\n",
      "building tree 100 of 100\n",
      "Entrenamiento completado.\n"
     ]
    },
    {
     "name": "stderr",
     "output_type": "stream",
     "text": [
      "[Parallel(n_jobs=1)]: Done  40 tasks      | elapsed:    0.9s\n"
     ]
    },
    {
     "name": "stdout",
     "output_type": "stream",
     "text": [
      "RMSE (Random Forest): 1660.3304229595992\n",
      "R² Score (Random Forest): 0.8717652292843222\n",
      "Tiempo de entrenamiento: 178.96 segundos\n"
     ]
    }
   ],
   "source": [
    "# Definir el modelo con hiperparámetros predeterminados\n",
    "rf = RandomForestRegressor(random_state=42, n_estimators=100, verbose=2)\n",
    "train_time_rf = None  # Variable para el tiempo\n",
    "\n",
    "# Ajustar el modelo a los datos de entrenamiento\n",
    "print(\"Iniciando el entrenamiento...\")\n",
    "start_time = time.time()\n",
    "rf.fit(X_train, y_train)\n",
    "end_time = time.time()\n",
    "train_time_rf = end_time - start_time\n",
    "print(\"Entrenamiento completado.\")\n",
    "\n",
    "# Predecir en el conjunto de prueba\n",
    "y_pred_rf = rf.predict(X_test)\n",
    "\n",
    "# Calcular el RMSE\n",
    "rmse_rf = mean_squared_error(y_test, y_pred_rf, squared=False)\n",
    "\n",
    "# Calcular el R² score\n",
    "r2_rf = r2_score(y_test, y_pred_rf)\n",
    "\n",
    "# Imprimir resultados\n",
    "print(f'RMSE (Random Forest): {rmse_rf}')\n",
    "print(f'R² Score (Random Forest): {r2_rf}')\n",
    "print(f'Tiempo de entrenamiento: {train_time_rf:.2f} segundos')"
   ]
  },
  {
   "cell_type": "code",
   "execution_count": 51,
   "metadata": {},
   "outputs": [
    {
     "name": "stdout",
     "output_type": "stream",
     "text": [
      "Iniciando el entrenamiento...\n",
      "[22:09:22] INFO: ../src/tree/updater_prune.cc:101: tree pruning end, 14 extra nodes, 0 pruned nodes, max_depth=3\n",
      "[22:09:22] INFO: ../src/tree/updater_prune.cc:101: tree pruning end, 14 extra nodes, 0 pruned nodes, max_depth=3\n",
      "[22:09:22] INFO: ../src/tree/updater_prune.cc:101: tree pruning end, 14 extra nodes, 0 pruned nodes, max_depth=3\n",
      "[22:09:22] INFO: ../src/tree/updater_prune.cc:101: tree pruning end, 14 extra nodes, 0 pruned nodes, max_depth=3\n",
      "[22:09:23] INFO: ../src/tree/updater_prune.cc:101: tree pruning end, 14 extra nodes, 0 pruned nodes, max_depth=3\n",
      "[22:09:23] INFO: ../src/tree/updater_prune.cc:101: tree pruning end, 14 extra nodes, 0 pruned nodes, max_depth=3\n",
      "[22:09:23] INFO: ../src/tree/updater_prune.cc:101: tree pruning end, 14 extra nodes, 0 pruned nodes, max_depth=3\n",
      "[22:09:23] INFO: ../src/tree/updater_prune.cc:101: tree pruning end, 14 extra nodes, 0 pruned nodes, max_depth=3\n",
      "[22:09:23] INFO: ../src/tree/updater_prune.cc:101: tree pruning end, 14 extra nodes, 0 pruned nodes, max_depth=3\n",
      "[22:09:24] INFO: ../src/tree/updater_prune.cc:101: tree pruning end, 14 extra nodes, 0 pruned nodes, max_depth=3\n",
      "[22:09:24] INFO: ../src/tree/updater_prune.cc:101: tree pruning end, 14 extra nodes, 0 pruned nodes, max_depth=3\n",
      "[22:09:24] INFO: ../src/tree/updater_prune.cc:101: tree pruning end, 14 extra nodes, 0 pruned nodes, max_depth=3\n",
      "[22:09:24] INFO: ../src/tree/updater_prune.cc:101: tree pruning end, 14 extra nodes, 0 pruned nodes, max_depth=3\n",
      "[22:09:25] INFO: ../src/tree/updater_prune.cc:101: tree pruning end, 14 extra nodes, 0 pruned nodes, max_depth=3\n",
      "[22:09:25] INFO: ../src/tree/updater_prune.cc:101: tree pruning end, 14 extra nodes, 0 pruned nodes, max_depth=3\n",
      "[22:09:25] INFO: ../src/tree/updater_prune.cc:101: tree pruning end, 14 extra nodes, 0 pruned nodes, max_depth=3\n",
      "[22:09:25] INFO: ../src/tree/updater_prune.cc:101: tree pruning end, 14 extra nodes, 0 pruned nodes, max_depth=3\n",
      "[22:09:26] INFO: ../src/tree/updater_prune.cc:101: tree pruning end, 14 extra nodes, 0 pruned nodes, max_depth=3\n",
      "[22:09:26] INFO: ../src/tree/updater_prune.cc:101: tree pruning end, 14 extra nodes, 0 pruned nodes, max_depth=3\n",
      "[22:09:26] INFO: ../src/tree/updater_prune.cc:101: tree pruning end, 14 extra nodes, 0 pruned nodes, max_depth=3\n",
      "[22:09:26] INFO: ../src/tree/updater_prune.cc:101: tree pruning end, 14 extra nodes, 0 pruned nodes, max_depth=3\n",
      "[22:09:27] INFO: ../src/tree/updater_prune.cc:101: tree pruning end, 14 extra nodes, 0 pruned nodes, max_depth=3\n",
      "[22:09:27] INFO: ../src/tree/updater_prune.cc:101: tree pruning end, 14 extra nodes, 0 pruned nodes, max_depth=3\n",
      "[22:09:27] INFO: ../src/tree/updater_prune.cc:101: tree pruning end, 14 extra nodes, 0 pruned nodes, max_depth=3\n",
      "[22:09:27] INFO: ../src/tree/updater_prune.cc:101: tree pruning end, 14 extra nodes, 0 pruned nodes, max_depth=3\n",
      "[22:09:27] INFO: ../src/tree/updater_prune.cc:101: tree pruning end, 14 extra nodes, 0 pruned nodes, max_depth=3\n",
      "[22:09:28] INFO: ../src/tree/updater_prune.cc:101: tree pruning end, 14 extra nodes, 0 pruned nodes, max_depth=3\n",
      "[22:09:28] INFO: ../src/tree/updater_prune.cc:101: tree pruning end, 14 extra nodes, 0 pruned nodes, max_depth=3\n",
      "[22:09:28] INFO: ../src/tree/updater_prune.cc:101: tree pruning end, 14 extra nodes, 0 pruned nodes, max_depth=3\n",
      "[22:09:28] INFO: ../src/tree/updater_prune.cc:101: tree pruning end, 14 extra nodes, 0 pruned nodes, max_depth=3\n",
      "[22:09:29] INFO: ../src/tree/updater_prune.cc:101: tree pruning end, 14 extra nodes, 0 pruned nodes, max_depth=3\n",
      "[22:09:29] INFO: ../src/tree/updater_prune.cc:101: tree pruning end, 14 extra nodes, 0 pruned nodes, max_depth=3\n",
      "[22:09:29] INFO: ../src/tree/updater_prune.cc:101: tree pruning end, 14 extra nodes, 0 pruned nodes, max_depth=3\n",
      "[22:09:29] INFO: ../src/tree/updater_prune.cc:101: tree pruning end, 14 extra nodes, 0 pruned nodes, max_depth=3\n",
      "[22:09:30] INFO: ../src/tree/updater_prune.cc:101: tree pruning end, 14 extra nodes, 0 pruned nodes, max_depth=3\n",
      "[22:09:30] INFO: ../src/tree/updater_prune.cc:101: tree pruning end, 14 extra nodes, 0 pruned nodes, max_depth=3\n",
      "[22:09:30] INFO: ../src/tree/updater_prune.cc:101: tree pruning end, 14 extra nodes, 0 pruned nodes, max_depth=3\n",
      "[22:09:30] INFO: ../src/tree/updater_prune.cc:101: tree pruning end, 14 extra nodes, 0 pruned nodes, max_depth=3\n",
      "[22:09:31] INFO: ../src/tree/updater_prune.cc:101: tree pruning end, 14 extra nodes, 0 pruned nodes, max_depth=3\n",
      "[22:09:31] INFO: ../src/tree/updater_prune.cc:101: tree pruning end, 14 extra nodes, 0 pruned nodes, max_depth=3\n",
      "[22:09:31] INFO: ../src/tree/updater_prune.cc:101: tree pruning end, 14 extra nodes, 0 pruned nodes, max_depth=3\n",
      "[22:09:31] INFO: ../src/tree/updater_prune.cc:101: tree pruning end, 14 extra nodes, 0 pruned nodes, max_depth=3\n",
      "[22:09:32] INFO: ../src/tree/updater_prune.cc:101: tree pruning end, 14 extra nodes, 0 pruned nodes, max_depth=3\n",
      "[22:09:32] INFO: ../src/tree/updater_prune.cc:101: tree pruning end, 14 extra nodes, 0 pruned nodes, max_depth=3\n",
      "[22:09:32] INFO: ../src/tree/updater_prune.cc:101: tree pruning end, 14 extra nodes, 0 pruned nodes, max_depth=3\n",
      "[22:09:32] INFO: ../src/tree/updater_prune.cc:101: tree pruning end, 14 extra nodes, 0 pruned nodes, max_depth=3\n",
      "[22:09:32] INFO: ../src/tree/updater_prune.cc:101: tree pruning end, 14 extra nodes, 0 pruned nodes, max_depth=3\n",
      "[22:09:33] INFO: ../src/tree/updater_prune.cc:101: tree pruning end, 14 extra nodes, 0 pruned nodes, max_depth=3\n",
      "[22:09:33] INFO: ../src/tree/updater_prune.cc:101: tree pruning end, 14 extra nodes, 0 pruned nodes, max_depth=3\n",
      "[22:09:33] INFO: ../src/tree/updater_prune.cc:101: tree pruning end, 14 extra nodes, 0 pruned nodes, max_depth=3\n",
      "[22:09:33] INFO: ../src/tree/updater_prune.cc:101: tree pruning end, 14 extra nodes, 0 pruned nodes, max_depth=3\n",
      "[22:09:34] INFO: ../src/tree/updater_prune.cc:101: tree pruning end, 14 extra nodes, 0 pruned nodes, max_depth=3\n",
      "[22:09:34] INFO: ../src/tree/updater_prune.cc:101: tree pruning end, 14 extra nodes, 0 pruned nodes, max_depth=3\n",
      "[22:09:34] INFO: ../src/tree/updater_prune.cc:101: tree pruning end, 14 extra nodes, 0 pruned nodes, max_depth=3\n",
      "[22:09:34] INFO: ../src/tree/updater_prune.cc:101: tree pruning end, 14 extra nodes, 0 pruned nodes, max_depth=3\n",
      "[22:09:35] INFO: ../src/tree/updater_prune.cc:101: tree pruning end, 14 extra nodes, 0 pruned nodes, max_depth=3\n",
      "[22:09:35] INFO: ../src/tree/updater_prune.cc:101: tree pruning end, 14 extra nodes, 0 pruned nodes, max_depth=3\n",
      "[22:09:35] INFO: ../src/tree/updater_prune.cc:101: tree pruning end, 14 extra nodes, 0 pruned nodes, max_depth=3\n",
      "[22:09:35] INFO: ../src/tree/updater_prune.cc:101: tree pruning end, 14 extra nodes, 0 pruned nodes, max_depth=3\n",
      "[22:09:36] INFO: ../src/tree/updater_prune.cc:101: tree pruning end, 14 extra nodes, 0 pruned nodes, max_depth=3\n",
      "[22:09:36] INFO: ../src/tree/updater_prune.cc:101: tree pruning end, 14 extra nodes, 0 pruned nodes, max_depth=3\n",
      "[22:09:36] INFO: ../src/tree/updater_prune.cc:101: tree pruning end, 14 extra nodes, 0 pruned nodes, max_depth=3\n",
      "[22:09:36] INFO: ../src/tree/updater_prune.cc:101: tree pruning end, 14 extra nodes, 0 pruned nodes, max_depth=3\n",
      "[22:09:37] INFO: ../src/tree/updater_prune.cc:101: tree pruning end, 14 extra nodes, 0 pruned nodes, max_depth=3\n",
      "[22:09:37] INFO: ../src/tree/updater_prune.cc:101: tree pruning end, 14 extra nodes, 0 pruned nodes, max_depth=3\n",
      "[22:09:37] INFO: ../src/tree/updater_prune.cc:101: tree pruning end, 14 extra nodes, 0 pruned nodes, max_depth=3\n",
      "[22:09:37] INFO: ../src/tree/updater_prune.cc:101: tree pruning end, 14 extra nodes, 0 pruned nodes, max_depth=3\n",
      "[22:09:37] INFO: ../src/tree/updater_prune.cc:101: tree pruning end, 14 extra nodes, 0 pruned nodes, max_depth=3\n",
      "[22:09:38] INFO: ../src/tree/updater_prune.cc:101: tree pruning end, 14 extra nodes, 0 pruned nodes, max_depth=3\n",
      "[22:09:38] INFO: ../src/tree/updater_prune.cc:101: tree pruning end, 14 extra nodes, 0 pruned nodes, max_depth=3\n",
      "[22:09:38] INFO: ../src/tree/updater_prune.cc:101: tree pruning end, 14 extra nodes, 0 pruned nodes, max_depth=3\n",
      "[22:09:38] INFO: ../src/tree/updater_prune.cc:101: tree pruning end, 14 extra nodes, 0 pruned nodes, max_depth=3\n",
      "[22:09:39] INFO: ../src/tree/updater_prune.cc:101: tree pruning end, 14 extra nodes, 0 pruned nodes, max_depth=3\n"
     ]
    },
    {
     "name": "stdout",
     "output_type": "stream",
     "text": [
      "[22:09:39] INFO: ../src/tree/updater_prune.cc:101: tree pruning end, 14 extra nodes, 0 pruned nodes, max_depth=3\n",
      "[22:09:39] INFO: ../src/tree/updater_prune.cc:101: tree pruning end, 14 extra nodes, 0 pruned nodes, max_depth=3\n",
      "[22:09:39] INFO: ../src/tree/updater_prune.cc:101: tree pruning end, 14 extra nodes, 0 pruned nodes, max_depth=3\n",
      "[22:09:40] INFO: ../src/tree/updater_prune.cc:101: tree pruning end, 14 extra nodes, 0 pruned nodes, max_depth=3\n",
      "[22:09:40] INFO: ../src/tree/updater_prune.cc:101: tree pruning end, 14 extra nodes, 0 pruned nodes, max_depth=3\n",
      "[22:09:40] INFO: ../src/tree/updater_prune.cc:101: tree pruning end, 14 extra nodes, 0 pruned nodes, max_depth=3\n",
      "[22:09:40] INFO: ../src/tree/updater_prune.cc:101: tree pruning end, 14 extra nodes, 0 pruned nodes, max_depth=3\n",
      "[22:09:41] INFO: ../src/tree/updater_prune.cc:101: tree pruning end, 14 extra nodes, 0 pruned nodes, max_depth=3\n",
      "[22:09:41] INFO: ../src/tree/updater_prune.cc:101: tree pruning end, 14 extra nodes, 0 pruned nodes, max_depth=3\n",
      "[22:09:41] INFO: ../src/tree/updater_prune.cc:101: tree pruning end, 14 extra nodes, 0 pruned nodes, max_depth=3\n",
      "[22:09:41] INFO: ../src/tree/updater_prune.cc:101: tree pruning end, 14 extra nodes, 0 pruned nodes, max_depth=3\n",
      "[22:09:42] INFO: ../src/tree/updater_prune.cc:101: tree pruning end, 14 extra nodes, 0 pruned nodes, max_depth=3\n",
      "[22:09:42] INFO: ../src/tree/updater_prune.cc:101: tree pruning end, 14 extra nodes, 0 pruned nodes, max_depth=3\n",
      "[22:09:42] INFO: ../src/tree/updater_prune.cc:101: tree pruning end, 14 extra nodes, 0 pruned nodes, max_depth=3\n",
      "[22:09:42] INFO: ../src/tree/updater_prune.cc:101: tree pruning end, 14 extra nodes, 0 pruned nodes, max_depth=3\n",
      "[22:09:42] INFO: ../src/tree/updater_prune.cc:101: tree pruning end, 14 extra nodes, 0 pruned nodes, max_depth=3\n",
      "[22:09:43] INFO: ../src/tree/updater_prune.cc:101: tree pruning end, 14 extra nodes, 0 pruned nodes, max_depth=3\n",
      "[22:09:43] INFO: ../src/tree/updater_prune.cc:101: tree pruning end, 14 extra nodes, 0 pruned nodes, max_depth=3\n",
      "[22:09:43] INFO: ../src/tree/updater_prune.cc:101: tree pruning end, 14 extra nodes, 0 pruned nodes, max_depth=3\n",
      "[22:09:43] INFO: ../src/tree/updater_prune.cc:101: tree pruning end, 14 extra nodes, 0 pruned nodes, max_depth=3\n",
      "[22:09:44] INFO: ../src/tree/updater_prune.cc:101: tree pruning end, 14 extra nodes, 0 pruned nodes, max_depth=3\n",
      "[22:09:44] INFO: ../src/tree/updater_prune.cc:101: tree pruning end, 14 extra nodes, 0 pruned nodes, max_depth=3\n",
      "[22:09:44] INFO: ../src/tree/updater_prune.cc:101: tree pruning end, 14 extra nodes, 0 pruned nodes, max_depth=3\n",
      "[22:09:44] INFO: ../src/tree/updater_prune.cc:101: tree pruning end, 14 extra nodes, 0 pruned nodes, max_depth=3\n",
      "[22:09:45] INFO: ../src/tree/updater_prune.cc:101: tree pruning end, 14 extra nodes, 0 pruned nodes, max_depth=3\n",
      "[22:09:45] INFO: ../src/tree/updater_prune.cc:101: tree pruning end, 14 extra nodes, 0 pruned nodes, max_depth=3\n",
      "[22:09:45] INFO: ../src/tree/updater_prune.cc:101: tree pruning end, 14 extra nodes, 0 pruned nodes, max_depth=3\n",
      "Entrenamiento completado.\n",
      "RMSE (XGBoost): 1967.9294891573838\n",
      "R² Score (XGBoost): 0.8198493574951545\n",
      "Tiempo de entrenamiento: 24.33 segundos\n"
     ]
    }
   ],
   "source": [
    "# Definir el modelo con hiperparámetros predeterminados\n",
    "xgb_model = XGBRegressor(random_state=42, n_estimators=100, learning_rate=0.1, max_depth=3, verbosity=2)\n",
    "train_time_xgb = None\n",
    "\n",
    "# Ajustar el modelo a los datos de entrenamiento\n",
    "print(\"Iniciando el entrenamiento...\")\n",
    "start_time = time.time()\n",
    "xgb_model.fit(X_train, y_train)\n",
    "end_time = time.time()\n",
    "train_time_xgb = end_time - start_time\n",
    "print(\"Entrenamiento completado.\")\n",
    "\n",
    "# Predecir en el conjunto de prueba\n",
    "y_pred_xgb = xgb_model.predict(X_test)\n",
    "\n",
    "# Calcular el RMSE\n",
    "rmse_xgb = mean_squared_error(y_test, y_pred_xgb, squared=False)\n",
    "\n",
    "# Calcular el R² score\n",
    "r2_xgb = r2_score(y_test, y_pred_xgb)\n",
    "\n",
    "# Imprimir resultados\n",
    "print(f'RMSE (XGBoost): {rmse_xgb}')\n",
    "print(f'R² Score (XGBoost): {r2_xgb}')\n",
    "print(f'Tiempo de entrenamiento: {train_time_xgb:.2f} segundos')\n"
   ]
  },
  {
   "cell_type": "code",
   "execution_count": 50,
   "metadata": {},
   "outputs": [
    {
     "name": "stdout",
     "output_type": "stream",
     "text": [
      "Iniciando el entrenamiento...\n",
      "[LightGBM] [Debug] Dataset::GetMultiBinFromSparseFeatures: sparse rate 0.871318\n",
      "[LightGBM] [Debug] Dataset::GetMultiBinFromAllFeatures: sparse rate 0.250860\n",
      "[LightGBM] [Debug] init for col-wise cost 0.004833 seconds, init for row-wise cost 0.173347 seconds\n",
      "[LightGBM] [Warning] Auto-choosing row-wise multi-threading, the overhead of testing was 0.008807 seconds.\n",
      "You can set `force_row_wise=true` to remove the overhead.\n",
      "And if memory is not enough, you can set `force_col_wise=true`.\n",
      "[LightGBM] [Debug] Using Sparse Multi-Val Bin\n",
      "[LightGBM] [Info] Total Bins 1109\n",
      "[LightGBM] [Info] Number of data points in the train set: 234852, number of used features: 33\n",
      "[LightGBM] [Info] Start training from score 4810.595933\n",
      "[LightGBM] [Debug] Trained a tree with leaves = 31 and depth = 6\n",
      "[LightGBM] [Debug] Trained a tree with leaves = 31 and depth = 7\n",
      "[LightGBM] [Debug] Trained a tree with leaves = 31 and depth = 6\n",
      "[LightGBM] [Debug] Trained a tree with leaves = 31 and depth = 7\n",
      "[LightGBM] [Debug] Trained a tree with leaves = 31 and depth = 7\n",
      "[LightGBM] [Debug] Trained a tree with leaves = 31 and depth = 7\n",
      "[LightGBM] [Debug] Trained a tree with leaves = 31 and depth = 7\n",
      "[LightGBM] [Debug] Trained a tree with leaves = 31 and depth = 8\n",
      "[LightGBM] [Debug] Trained a tree with leaves = 31 and depth = 8\n",
      "[LightGBM] [Debug] Trained a tree with leaves = 31 and depth = 9\n",
      "[LightGBM] [Debug] Trained a tree with leaves = 31 and depth = 7\n",
      "[LightGBM] [Debug] Trained a tree with leaves = 31 and depth = 7\n",
      "[LightGBM] [Debug] Trained a tree with leaves = 31 and depth = 9\n",
      "[LightGBM] [Debug] Trained a tree with leaves = 31 and depth = 8\n",
      "[LightGBM] [Debug] Trained a tree with leaves = 31 and depth = 9\n",
      "[LightGBM] [Debug] Trained a tree with leaves = 31 and depth = 8\n",
      "[LightGBM] [Debug] Trained a tree with leaves = 31 and depth = 9\n",
      "[LightGBM] [Debug] Trained a tree with leaves = 31 and depth = 10\n",
      "[LightGBM] [Debug] Trained a tree with leaves = 31 and depth = 9\n",
      "[LightGBM] [Debug] Trained a tree with leaves = 31 and depth = 11\n",
      "[LightGBM] [Debug] Trained a tree with leaves = 31 and depth = 10\n",
      "[LightGBM] [Debug] Trained a tree with leaves = 31 and depth = 8\n",
      "[LightGBM] [Debug] Trained a tree with leaves = 31 and depth = 10\n",
      "[LightGBM] [Debug] Trained a tree with leaves = 31 and depth = 10\n",
      "[LightGBM] [Debug] Trained a tree with leaves = 31 and depth = 9\n",
      "[LightGBM] [Debug] Trained a tree with leaves = 31 and depth = 9\n",
      "[LightGBM] [Debug] Trained a tree with leaves = 31 and depth = 11\n",
      "[LightGBM] [Debug] Trained a tree with leaves = 31 and depth = 11\n",
      "[LightGBM] [Debug] Trained a tree with leaves = 31 and depth = 12\n",
      "[LightGBM] [Debug] Trained a tree with leaves = 31 and depth = 9\n",
      "[LightGBM] [Debug] Trained a tree with leaves = 31 and depth = 11\n",
      "[LightGBM] [Debug] Trained a tree with leaves = 31 and depth = 9\n",
      "[LightGBM] [Debug] Trained a tree with leaves = 31 and depth = 12\n",
      "[LightGBM] [Debug] Trained a tree with leaves = 31 and depth = 10\n",
      "[LightGBM] [Debug] Trained a tree with leaves = 31 and depth = 11\n",
      "[LightGBM] [Debug] Trained a tree with leaves = 31 and depth = 11\n",
      "[LightGBM] [Debug] Trained a tree with leaves = 31 and depth = 11\n",
      "[LightGBM] [Debug] Trained a tree with leaves = 31 and depth = 10\n",
      "[LightGBM] [Debug] Trained a tree with leaves = 31 and depth = 11\n",
      "[LightGBM] [Debug] Trained a tree with leaves = 31 and depth = 10\n",
      "[LightGBM] [Debug] Trained a tree with leaves = 31 and depth = 12\n",
      "[LightGBM] [Debug] Trained a tree with leaves = 31 and depth = 14\n",
      "[LightGBM] [Debug] Trained a tree with leaves = 31 and depth = 10\n",
      "[LightGBM] [Debug] Trained a tree with leaves = 31 and depth = 9\n",
      "[LightGBM] [Debug] Trained a tree with leaves = 31 and depth = 11\n",
      "[LightGBM] [Debug] Trained a tree with leaves = 31 and depth = 10\n",
      "[LightGBM] [Debug] Trained a tree with leaves = 31 and depth = 8\n",
      "[LightGBM] [Debug] Trained a tree with leaves = 31 and depth = 13\n",
      "[LightGBM] [Debug] Trained a tree with leaves = 31 and depth = 11\n",
      "[LightGBM] [Debug] Trained a tree with leaves = 31 and depth = 9\n",
      "[LightGBM] [Debug] Trained a tree with leaves = 31 and depth = 11\n",
      "[LightGBM] [Debug] Trained a tree with leaves = 31 and depth = 10\n",
      "[LightGBM] [Debug] Trained a tree with leaves = 31 and depth = 11\n",
      "[LightGBM] [Debug] Trained a tree with leaves = 31 and depth = 10\n",
      "[LightGBM] [Debug] Trained a tree with leaves = 31 and depth = 11\n",
      "[LightGBM] [Debug] Trained a tree with leaves = 31 and depth = 8\n",
      "[LightGBM] [Debug] Trained a tree with leaves = 31 and depth = 13\n",
      "[LightGBM] [Debug] Trained a tree with leaves = 31 and depth = 10\n",
      "[LightGBM] [Debug] Trained a tree with leaves = 31 and depth = 9\n",
      "[LightGBM] [Debug] Trained a tree with leaves = 31 and depth = 14\n",
      "[LightGBM] [Debug] Trained a tree with leaves = 31 and depth = 10\n",
      "[LightGBM] [Debug] Trained a tree with leaves = 31 and depth = 10\n",
      "[LightGBM] [Debug] Trained a tree with leaves = 31 and depth = 17\n",
      "[LightGBM] [Debug] Trained a tree with leaves = 31 and depth = 12\n",
      "[LightGBM] [Debug] Trained a tree with leaves = 31 and depth = 15\n",
      "[LightGBM] [Debug] Trained a tree with leaves = 31 and depth = 13\n",
      "[LightGBM] [Debug] Trained a tree with leaves = 31 and depth = 15\n",
      "[LightGBM] [Debug] Trained a tree with leaves = 31 and depth = 9\n",
      "[LightGBM] [Debug] Trained a tree with leaves = 31 and depth = 9\n",
      "[LightGBM] [Debug] Trained a tree with leaves = 31 and depth = 9\n",
      "[LightGBM] [Debug] Trained a tree with leaves = 31 and depth = 15\n",
      "[LightGBM] [Debug] Trained a tree with leaves = 31 and depth = 11\n",
      "[LightGBM] [Debug] Trained a tree with leaves = 31 and depth = 9\n",
      "[LightGBM] [Debug] Trained a tree with leaves = 31 and depth = 10\n",
      "[LightGBM] [Debug] Trained a tree with leaves = 31 and depth = 11\n",
      "[LightGBM] [Debug] Trained a tree with leaves = 31 and depth = 10\n",
      "[LightGBM] [Debug] Trained a tree with leaves = 31 and depth = 9\n",
      "[LightGBM] [Debug] Trained a tree with leaves = 31 and depth = 11\n",
      "[LightGBM] [Debug] Trained a tree with leaves = 31 and depth = 9\n",
      "[LightGBM] [Debug] Trained a tree with leaves = 31 and depth = 11\n",
      "[LightGBM] [Debug] Trained a tree with leaves = 31 and depth = 14\n",
      "[LightGBM] [Debug] Trained a tree with leaves = 31 and depth = 10\n",
      "[LightGBM] [Debug] Trained a tree with leaves = 31 and depth = 10\n",
      "[LightGBM] [Debug] Trained a tree with leaves = 31 and depth = 10\n",
      "[LightGBM] [Debug] Trained a tree with leaves = 31 and depth = 16\n",
      "[LightGBM] [Debug] Trained a tree with leaves = 31 and depth = 13\n",
      "[LightGBM] [Debug] Trained a tree with leaves = 31 and depth = 9\n",
      "[LightGBM] [Debug] Trained a tree with leaves = 31 and depth = 16\n",
      "[LightGBM] [Debug] Trained a tree with leaves = 31 and depth = 11\n",
      "[LightGBM] [Debug] Trained a tree with leaves = 31 and depth = 14\n",
      "[LightGBM] [Debug] Trained a tree with leaves = 31 and depth = 13\n",
      "[LightGBM] [Debug] Trained a tree with leaves = 31 and depth = 10\n",
      "[LightGBM] [Debug] Trained a tree with leaves = 31 and depth = 10\n",
      "[LightGBM] [Debug] Trained a tree with leaves = 31 and depth = 12\n",
      "[LightGBM] [Debug] Trained a tree with leaves = 31 and depth = 9\n",
      "[LightGBM] [Debug] Trained a tree with leaves = 31 and depth = 10\n",
      "[LightGBM] [Debug] Trained a tree with leaves = 31 and depth = 12\n",
      "[LightGBM] [Debug] Trained a tree with leaves = 31 and depth = 9\n",
      "[LightGBM] [Debug] Trained a tree with leaves = 31 and depth = 16\n",
      "[LightGBM] [Debug] Trained a tree with leaves = 31 and depth = 12\n",
      "Entrenamiento completado.\n",
      "RMSE (LightGBM): 1744.4643403438413\n",
      "R² Score (LightGBM): 0.8584398739995047\n",
      "Tiempo de entrenamiento: 3.94 segundos\n"
     ]
    }
   ],
   "source": [
    "# Definir el modelo con hiperparámetros predeterminados\n",
    "lgb_model = lgb.LGBMRegressor(random_state=42, n_estimators=100, verbose=2)\n",
    "train_time_lgb = None\n",
    "\n",
    "# Ajustar el modelo a los datos de entrenamiento\n",
    "print(\"Iniciando el entrenamiento...\")\n",
    "start_time = time.time()\n",
    "lgb_model.fit(X_train, y_train)\n",
    "end_time = time.time()\n",
    "train_time_lgb = end_time - start_time\n",
    "print(\"Entrenamiento completado.\")\n",
    "\n",
    "# Predecir en el conjunto de prueba\n",
    "y_pred_lgb = lgb_model.predict(X_test)\n",
    "\n",
    "# Calcular el RMSE\n",
    "rmse_lgb = mean_squared_error(y_test, y_pred_lgb, squared=False)\n",
    "\n",
    "# Calcular el R² score\n",
    "r2_lgb = r2_score(y_test, y_pred_lgb)\n",
    "\n",
    "# Imprimir resultados\n",
    "print(f'RMSE (LightGBM): {rmse_lgb}')\n",
    "print(f'R² Score (LightGBM): {r2_lgb}')\n",
    "print(f'Tiempo de entrenamiento: {train_time_lgb:.2f} segundos')"
   ]
  },
  {
   "cell_type": "code",
   "execution_count": 49,
   "metadata": {},
   "outputs": [
    {
     "name": "stdout",
     "output_type": "stream",
     "text": [
      "Iniciando el entrenamiento...\n",
      "0:\tlearn: 4322.6305361\ttotal: 34.6ms\tremaining: 3.43s\n",
      "2:\tlearn: 3816.9637977\ttotal: 97.1ms\tremaining: 3.14s\n",
      "4:\tlearn: 3429.9565125\ttotal: 163ms\tremaining: 3.1s\n",
      "6:\tlearn: 3136.8833710\ttotal: 223ms\tremaining: 2.96s\n",
      "8:\tlearn: 2906.5905348\ttotal: 293ms\tremaining: 2.96s\n",
      "10:\tlearn: 2730.9611992\ttotal: 353ms\tremaining: 2.85s\n",
      "12:\tlearn: 2599.7882824\ttotal: 410ms\tremaining: 2.74s\n",
      "14:\tlearn: 2495.4098934\ttotal: 471ms\tremaining: 2.67s\n",
      "16:\tlearn: 2413.9044295\ttotal: 533ms\tremaining: 2.6s\n",
      "18:\tlearn: 2349.1942127\ttotal: 599ms\tremaining: 2.55s\n",
      "20:\tlearn: 2293.2197546\ttotal: 662ms\tremaining: 2.49s\n",
      "22:\tlearn: 2251.5949958\ttotal: 720ms\tremaining: 2.41s\n",
      "24:\tlearn: 2214.3363045\ttotal: 786ms\tremaining: 2.36s\n",
      "26:\tlearn: 2179.0144244\ttotal: 846ms\tremaining: 2.29s\n",
      "28:\tlearn: 2149.9186162\ttotal: 907ms\tremaining: 2.22s\n",
      "30:\tlearn: 2124.3171751\ttotal: 961ms\tremaining: 2.14s\n",
      "32:\tlearn: 2101.0964665\ttotal: 1.02s\tremaining: 2.08s\n",
      "34:\tlearn: 2078.2800276\ttotal: 1.09s\tremaining: 2.02s\n",
      "36:\tlearn: 2061.8357109\ttotal: 1.15s\tremaining: 1.95s\n",
      "38:\tlearn: 2049.2344943\ttotal: 1.2s\tremaining: 1.88s\n",
      "40:\tlearn: 2033.0453139\ttotal: 1.27s\tremaining: 1.83s\n",
      "42:\tlearn: 2016.2733544\ttotal: 1.33s\tremaining: 1.77s\n",
      "44:\tlearn: 2006.9796680\ttotal: 1.38s\tremaining: 1.69s\n",
      "46:\tlearn: 1996.8808575\ttotal: 1.44s\tremaining: 1.62s\n",
      "48:\tlearn: 1986.6302404\ttotal: 1.49s\tremaining: 1.55s\n",
      "50:\tlearn: 1977.6001569\ttotal: 1.55s\tremaining: 1.49s\n",
      "52:\tlearn: 1968.9034054\ttotal: 1.61s\tremaining: 1.43s\n",
      "54:\tlearn: 1960.6572814\ttotal: 1.66s\tremaining: 1.36s\n",
      "56:\tlearn: 1952.1691225\ttotal: 1.72s\tremaining: 1.29s\n",
      "58:\tlearn: 1944.5881419\ttotal: 1.78s\tremaining: 1.24s\n",
      "60:\tlearn: 1937.4627946\ttotal: 1.84s\tremaining: 1.18s\n",
      "62:\tlearn: 1929.9167794\ttotal: 1.91s\tremaining: 1.12s\n",
      "64:\tlearn: 1923.9019306\ttotal: 1.96s\tremaining: 1.06s\n",
      "66:\tlearn: 1918.0045596\ttotal: 2.02s\tremaining: 997ms\n",
      "68:\tlearn: 1912.7088879\ttotal: 2.08s\tremaining: 936ms\n",
      "70:\tlearn: 1907.7360419\ttotal: 2.14s\tremaining: 873ms\n",
      "72:\tlearn: 1902.7900386\ttotal: 2.2s\tremaining: 813ms\n",
      "74:\tlearn: 1898.1649881\ttotal: 2.26s\tremaining: 754ms\n",
      "76:\tlearn: 1894.0238930\ttotal: 2.32s\tremaining: 692ms\n",
      "78:\tlearn: 1889.9733799\ttotal: 2.37s\tremaining: 630ms\n",
      "80:\tlearn: 1886.0359318\ttotal: 2.43s\tremaining: 569ms\n",
      "82:\tlearn: 1882.8175753\ttotal: 2.49s\tremaining: 510ms\n",
      "84:\tlearn: 1877.7135983\ttotal: 2.54s\tremaining: 449ms\n",
      "86:\tlearn: 1873.6807252\ttotal: 2.6s\tremaining: 388ms\n",
      "88:\tlearn: 1868.7742596\ttotal: 2.66s\tremaining: 328ms\n",
      "90:\tlearn: 1865.0310594\ttotal: 2.71s\tremaining: 268ms\n",
      "92:\tlearn: 1861.5239013\ttotal: 2.77s\tremaining: 209ms\n",
      "94:\tlearn: 1857.1974344\ttotal: 2.83s\tremaining: 149ms\n",
      "96:\tlearn: 1853.5038628\ttotal: 2.89s\tremaining: 89.4ms\n",
      "98:\tlearn: 1850.0416791\ttotal: 2.96s\tremaining: 29.9ms\n",
      "99:\tlearn: 1848.6019970\ttotal: 2.99s\tremaining: 0us\n",
      "Entrenamiento completado.\n",
      "RMSE (CatBoost): 1867.1194270446724\n",
      "R² Score (CatBoost): 0.8378335746626202\n",
      "Tiempo de entrenamiento: 3.32 segundos\n"
     ]
    }
   ],
   "source": [
    "# Definir el modelo con hiperparámetros predeterminados\n",
    "cb_model = CatBoostRegressor(random_state=42, iterations=100, learning_rate=0.1, depth=6, verbose=2)\n",
    "train_time_cb = None\n",
    "\n",
    "# Ajustar el modelo a los datos de entrenamiento\n",
    "print(\"Iniciando el entrenamiento...\")\n",
    "start_time = time.time()\n",
    "cb_model.fit(X_train, y_train)\n",
    "end_time = time.time()\n",
    "train_time_cb = end_time - start_time\n",
    "print(\"Entrenamiento completado.\")\n",
    "\n",
    "# Predecir en el conjunto de prueba\n",
    "y_pred_cb = cb_model.predict(X_test)\n",
    "\n",
    "# Calcular el RMSE\n",
    "rmse_cb = mean_squared_error(y_test, y_pred_cb, squared=False)\n",
    "\n",
    "# Calcular el R² score\n",
    "r2_cb = r2_score(y_test, y_pred_cb)\n",
    "\n",
    "# Imprimir resultados\n",
    "print(f'RMSE (CatBoost): {rmse_cb}')\n",
    "print(f'R² Score (CatBoost): {r2_cb}')\n",
    "print(f'Tiempo de entrenamiento: {train_time_cb:.2f} segundos')"
   ]
  },
  {
   "cell_type": "markdown",
   "metadata": {},
   "source": [
    "<div class=\"alert alert-block alert-success\">\n",
    "<b>Comentario del revisor</b> <a class=\"tocSkip\"></a><br>\n",
    "\n",
    "<b>Éxito</b> - ¡Impresionante trabajo! Has implementado correctamente un pipeline de entrenamiento con múltiples modelos de regresión, incluyendo regresión lineal, Random Forest, XGBoost, LightGBM y CatBoost. Este enfoque comparativo te permitirá identificar cuál modelo ofrece el mejor balance entre precisión y tiempo de entrenamiento. También es excelente que hayas medido el tiempo de entrenamiento de cada modelo y calculado métricas clave como RMSE y R² Score. ✅🎯\n",
    "\n",
    "</div>"
   ]
  },
  {
   "cell_type": "markdown",
   "metadata": {},
   "source": [
    "## Análisis del modelo"
   ]
  },
  {
   "cell_type": "code",
   "execution_count": 53,
   "metadata": {
    "scrolled": false
   },
   "outputs": [
    {
     "name": "stdout",
     "output_type": "stream",
     "text": [
      "\n",
      "--- Evaluación de Modelos: Velocidad y Calidad ---\n",
      "\n",
      "Modelo: Linear Regression\n",
      "   RMSE (Precisión): 3163.2690\n",
      "   R² Score (Calidad): 0.5345\n",
      "   Tiempo de Entrenamiento: 0.24 segundos\n",
      "\n",
      "Modelo: Random Forest\n",
      "   RMSE (Precisión): 1660.3304\n",
      "   R² Score (Calidad): 0.8718\n",
      "   Tiempo de Entrenamiento: 178.96 segundos\n",
      "\n",
      "Modelo: LightGBM\n",
      "   RMSE (Precisión): 1744.4643\n",
      "   R² Score (Calidad): 0.8584\n",
      "   Tiempo de Entrenamiento: 3.94 segundos\n",
      "\n",
      "Modelo: XGBoost\n",
      "   RMSE (Precisión): 1967.9295\n",
      "   R² Score (Calidad): 0.8198\n",
      "   Tiempo de Entrenamiento: 24.33 segundos\n",
      "\n",
      "Modelo: CatBoost\n",
      "   RMSE (Precisión): 1867.1194\n",
      "   R² Score (Calidad): 0.8378\n",
      "   Tiempo de Entrenamiento: 3.32 segundos\n",
      "\n",
      "⭐ Mejor Modelo por RMSE (Precisión): Random Forest con RMSE de 1660.3304\n",
      "⭐ Mejor Modelo por R² Score (Calidad): Random Forest con R² de 0.8718\n",
      "⭐ Modelo Más Rápido (Tiempo de Entrenamiento): Linear Regression con un tiempo de 0.24 segundos\n"
     ]
    }
   ],
   "source": [
    "# Crear diccionarios con las métricas de cada modelo\n",
    "rmse_results = {\n",
    "    'Linear Regression': rmse_lr,\n",
    "    'Random Forest': rmse_rf,\n",
    "    'LightGBM': rmse_lgb,\n",
    "    'XGBoost': rmse_xgb,\n",
    "    'CatBoost': rmse_cb\n",
    "}\n",
    "\n",
    "r2_results = {\n",
    "    'Linear Regression': r2_lr,\n",
    "    'Random Forest': r2_rf,\n",
    "    'LightGBM': r2_lgb,\n",
    "    'XGBoost': r2_xgb,\n",
    "    'CatBoost': r2_cb\n",
    "}\n",
    "\n",
    "train_times = {\n",
    "    'Linear Regression': train_time_lr,\n",
    "    'Random Forest': train_time_rf,\n",
    "    'LightGBM': train_time_lgb,\n",
    "    'XGBoost': train_time_xgb,\n",
    "    'CatBoost': train_time_cb\n",
    "}\n",
    "\n",
    "# Imprimir los resultados comparativos\n",
    "print(\"\\n--- Evaluación de Modelos: Velocidad y Calidad ---\\n\")\n",
    "\n",
    "# Analizar los resultados\n",
    "for model in rmse_results:\n",
    "    print(f\"Modelo: {model}\")\n",
    "    print(f\"   RMSE (Precisión): {rmse_results[model]:.4f}\")\n",
    "    print(f\"   R² Score (Calidad): {r2_results[model]:.4f}\")\n",
    "    print(f\"   Tiempo de Entrenamiento: {train_times[model]:.2f} segundos\\n\")\n",
    "\n",
    "# Comparar el mejor RMSE, el mejor R² Score y el más rápido\n",
    "best_rmse_model = min(rmse_results, key=rmse_results.get)\n",
    "best_r2_model = max(r2_results, key=r2_results.get)\n",
    "fastest_model = min(train_times, key=train_times.get)\n",
    "\n",
    "# Imprimir el mejor modelo para cada métrica\n",
    "print(f\"⭐ Mejor Modelo por RMSE (Precisión): {best_rmse_model} con RMSE de {rmse_results[best_rmse_model]:.4f}\")\n",
    "print(f\"⭐ Mejor Modelo por R² Score (Calidad): {best_r2_model} con R² de {r2_results[best_r2_model]:.4f}\")\n",
    "print(f\"⭐ Modelo Más Rápido (Tiempo de Entrenamiento): {fastest_model} con un tiempo de {train_times[fastest_model]:.2f} segundos\")\n"
   ]
  },
  {
   "cell_type": "markdown",
   "metadata": {},
   "source": [
    "<div class=\"alert alert-block alert-success\">\n",
    "\n",
    "<b>Comentario del revisor</b> <a class=\"tocSkip\"></a>\n",
    "\n",
    "✨ **¡Excelente trabajo en el análisis del modelo!** Has organizado muy bien la evaluación comparativa, estructurando las métricas clave como RMSE, R² Score y tiempo de entrenamiento de manera clara y comprensible. Además, destacar el mejor modelo en cada categoría facilita la toma de decisiones sobre cuál modelo elegir. ✅  \n",
    "\n",
    "💡 **Algunas ideas para mejorar aún más tu análisis:**  \n",
    "- **Visualización de resultados:** Presentar estos datos en una tabla o gráfico de barras podría hacer que la comparación sea aún más intuitiva y rápida de interpretar. A veces, una imagen dice más que muchos números.  \n",
    "- **Balance entre precisión y velocidad:** No siempre el modelo con el mejor RMSE es la mejor opción si su tiempo de entrenamiento es demasiado alto. Analizar qué modelo ofrece el mejor compromiso entre precisión y velocidad podría ser valioso.  \n",
    "- **Evaluación de estabilidad:** Comparar el desempeño en datos de entrenamiento vs. prueba podría ayudar a detectar posibles problemas de sobreajuste o subajuste en los modelos.  \n",
    "\n",
    "\n",
    "</div>"
   ]
  },
  {
   "cell_type": "markdown",
   "metadata": {},
   "source": [
    "# Lista de control"
   ]
  },
  {
   "cell_type": "markdown",
   "metadata": {},
   "source": [
    "Escribe 'x' para verificar. Luego presiona Shift+Enter"
   ]
  },
  {
   "cell_type": "markdown",
   "metadata": {},
   "source": [
    "- [x]  Jupyter Notebook está abierto\n",
    "- [ ]  El código no tiene errores- [ ]  Las celdas con el código han sido colocadas en orden de ejecución- [ ]  Los datos han sido descargados y preparados- [ ]  Los modelos han sido entrenados\n",
    "- [ ]  Se realizó el análisis de velocidad y calidad de los modelos"
   ]
  },
  {
   "cell_type": "markdown",
   "metadata": {},
   "source": [
    "Rusty Bargain debe considerar lo siguiente al elegir un modelo:\n",
    "\n",
    "Si la precisión es lo más importante, Random Forest es el modelo recomendado, ya que tiene el mejor RMSE y mejor R² Score.\n",
    "Sin embargo, su tiempo de entrenamiento es significativamente más largo que otros modelos.\n",
    "Si la velocidad de entrenamiento es clave y no se requiere la mayor precisión posible,\n",
    "Linear Regression es el modelo más adecuado debido a su bajo tiempo de entrenamiento,\n",
    "pero con un R² mucho más bajo que los modelos más complejos.\n",
    "LightGBM, XGBoost y CatBoost son opciones intermedias que ofrecen un buen equilibrio entre\n",
    "precisión y velocidad de entrenamiento. Estos modelos no son tan rápidos como la regresión lineal,\n",
    "pero son significativamente más rápidos que Random Forest y aún mantienen una buena precisión.\n",
    "\n",
    "Si la prioridad es la calidad de las predicciones, Random Forest es la opción.\n",
    "Si se valora más la velocidad de predicción y entrenamiento,\n",
    "entonces Linear Regression o los modelos como LightGBM o CatBoost serían más adecuados."
   ]
  },
  {
   "cell_type": "markdown",
   "metadata": {},
   "source": [
    "# Comentario General del Revisor\n",
    "\n",
    "<div class=\"alert alert-block alert-success\">\n",
    "\n",
    "<b>Comentario del revisor</b> <a class=\"tocSkip\"></a>\n",
    "\n",
    "🎉 **¡Felicidades!** Has desarrollado un análisis de modelos sólido y bien estructurado, demostrando un buen manejo del procesamiento de datos, selección de modelos y evaluación de desempeño.  \n",
    "\n",
    "### **Puntos Fuertes:**\n",
    "✅ **Limpieza y preparación de datos bien realizada**, con transformaciones relevantes y eliminación de valores nulos.  \n",
    "✅ **Comparación entre múltiples modelos**, evaluando no solo la precisión, sino también la eficiencia en tiempo de entrenamiento.  \n",
    "✅ **Análisis detallado de métricas** como RMSE y R² Score, facilitando la identificación del mejor modelo.  \n",
    "✅ **Código organizado y claro**, lo que mejora la legibilidad y facilita futuras mejoras.  \n",
    "\n",
    "### **Áreas de Mejora:**\n",
    "🔹 **Visualización de resultados:** Incorporar gráficos para la comparación de métricas podría hacer tu análisis aún más comprensible.  \n",
    "🔹 **Análisis de balance entre precisión y velocidad:** Evaluar cuál modelo ofrece el mejor rendimiento considerando tanto RMSE como tiempo de entrenamiento.  \n",
    "🔹 **Pruebas adicionales para evitar sobreajuste:** Comparar el desempeño en datos de entrenamiento y prueba para asegurar que el modelo generaliza bien.  \n",
    "\n",
    "🚀 **Próximo paso:** Si quieres mejorar aún más tu modelo, podrías experimentar con la optimización de hiperparámetros o técnicas avanzadas de feature engineering.  \n",
    "\n",
    "¡Gran trabajo! Sigue explorando y perfeccionando tus habilidades en modelado de datos. 😊💪  \n",
    "\n",
    "</div>"
   ]
  }
 ],
 "metadata": {
  "ExecuteTimeLog": [
   {
    "duration": 356,
    "start_time": "2025-02-19T18:45:48.042Z"
   },
   {
    "duration": 542,
    "start_time": "2025-02-19T18:46:07.226Z"
   },
   {
    "duration": 565,
    "start_time": "2025-02-19T18:46:17.328Z"
   },
   {
    "duration": 40,
    "start_time": "2025-02-19T18:48:04.338Z"
   },
   {
    "duration": 34,
    "start_time": "2025-02-19T18:48:19.216Z"
   },
   {
    "duration": 248,
    "start_time": "2025-02-19T18:52:01.741Z"
   },
   {
    "duration": 237,
    "start_time": "2025-02-19T18:53:26.080Z"
   },
   {
    "duration": 156,
    "start_time": "2025-02-19T18:53:53.673Z"
   },
   {
    "duration": 79,
    "start_time": "2025-02-19T18:54:05.753Z"
   },
   {
    "duration": 90,
    "start_time": "2025-02-19T18:54:57.890Z"
   },
   {
    "duration": 79,
    "start_time": "2025-02-19T18:55:48.702Z"
   },
   {
    "duration": 87,
    "start_time": "2025-02-19T18:56:03.280Z"
   },
   {
    "duration": 114,
    "start_time": "2025-02-19T18:56:54.220Z"
   },
   {
    "duration": 166,
    "start_time": "2025-02-19T18:57:05.482Z"
   },
   {
    "duration": 4,
    "start_time": "2025-02-19T18:58:26.037Z"
   },
   {
    "duration": 7,
    "start_time": "2025-02-19T18:58:52.080Z"
   },
   {
    "duration": 2287,
    "start_time": "2025-02-19T19:01:34.522Z"
   },
   {
    "duration": 183,
    "start_time": "2025-02-19T19:01:39.779Z"
   },
   {
    "duration": 179,
    "start_time": "2025-02-19T19:02:30.125Z"
   },
   {
    "duration": 23,
    "start_time": "2025-02-19T19:06:15.279Z"
   },
   {
    "duration": 341,
    "start_time": "2025-02-19T19:07:10.526Z"
   },
   {
    "duration": 401,
    "start_time": "2025-02-19T19:09:50.837Z"
   },
   {
    "duration": 354,
    "start_time": "2025-02-19T19:11:15.002Z"
   },
   {
    "duration": 261,
    "start_time": "2025-02-19T19:11:56.593Z"
   },
   {
    "duration": 277,
    "start_time": "2025-02-19T19:12:11.676Z"
   },
   {
    "duration": 252,
    "start_time": "2025-02-19T19:13:13.892Z"
   },
   {
    "duration": 57,
    "start_time": "2025-02-19T19:13:28.546Z"
   },
   {
    "duration": 52,
    "start_time": "2025-02-19T19:14:00.008Z"
   },
   {
    "duration": 52,
    "start_time": "2025-02-19T19:14:14.106Z"
   },
   {
    "duration": 53,
    "start_time": "2025-02-19T19:14:22.728Z"
   },
   {
    "duration": 7,
    "start_time": "2025-02-19T19:14:44.674Z"
   },
   {
    "duration": 53,
    "start_time": "2025-02-19T19:14:49.898Z"
   },
   {
    "duration": 123,
    "start_time": "2025-02-19T19:15:28.290Z"
   },
   {
    "duration": 158,
    "start_time": "2025-02-19T19:15:36.718Z"
   },
   {
    "duration": 20,
    "start_time": "2025-02-19T19:16:26.189Z"
   },
   {
    "duration": 389,
    "start_time": "2025-02-19T19:17:08.794Z"
   },
   {
    "duration": 4108,
    "start_time": "2025-02-19T19:17:16.511Z"
   },
   {
    "duration": 37,
    "start_time": "2025-02-19T19:19:02.115Z"
   },
   {
    "duration": 334,
    "start_time": "2025-02-19T19:19:27.325Z"
   },
   {
    "duration": 266,
    "start_time": "2025-02-19T19:20:05.276Z"
   },
   {
    "duration": 3402,
    "start_time": "2025-02-19T19:20:16.397Z"
   },
   {
    "duration": 357,
    "start_time": "2025-02-19T19:27:16.642Z"
   },
   {
    "duration": 135,
    "start_time": "2025-02-19T19:27:25.684Z"
   },
   {
    "duration": 106,
    "start_time": "2025-02-19T19:27:31.983Z"
   },
   {
    "duration": 21,
    "start_time": "2025-02-19T19:27:58.852Z"
   },
   {
    "duration": 110,
    "start_time": "2025-02-19T19:30:17.981Z"
   },
   {
    "duration": 4,
    "start_time": "2025-02-19T19:32:43.703Z"
   },
   {
    "duration": 493,
    "start_time": "2025-02-19T19:38:56.110Z"
   },
   {
    "duration": 9,
    "start_time": "2025-02-19T19:39:04.195Z"
   },
   {
    "duration": 57,
    "start_time": "2025-02-19T19:39:15.663Z"
   },
   {
    "duration": 60,
    "start_time": "2025-02-19T19:39:32.792Z"
   },
   {
    "duration": 77,
    "start_time": "2025-02-19T19:39:44.895Z"
   },
   {
    "duration": 3,
    "start_time": "2025-02-19T19:39:57.211Z"
   },
   {
    "duration": 478,
    "start_time": "2025-02-19T19:39:57.217Z"
   },
   {
    "duration": 3,
    "start_time": "2025-02-19T19:39:57.698Z"
   },
   {
    "duration": 0,
    "start_time": "2025-02-19T19:39:57.703Z"
   },
   {
    "duration": 0,
    "start_time": "2025-02-19T19:39:57.705Z"
   },
   {
    "duration": 0,
    "start_time": "2025-02-19T19:39:57.706Z"
   },
   {
    "duration": 0,
    "start_time": "2025-02-19T19:39:57.708Z"
   },
   {
    "duration": 0,
    "start_time": "2025-02-19T19:39:57.709Z"
   },
   {
    "duration": 0,
    "start_time": "2025-02-19T19:39:57.711Z"
   },
   {
    "duration": 0,
    "start_time": "2025-02-19T19:39:57.712Z"
   },
   {
    "duration": 0,
    "start_time": "2025-02-19T19:39:57.714Z"
   },
   {
    "duration": 0,
    "start_time": "2025-02-19T19:39:57.743Z"
   },
   {
    "duration": 0,
    "start_time": "2025-02-19T19:39:57.744Z"
   },
   {
    "duration": 0,
    "start_time": "2025-02-19T19:39:57.746Z"
   },
   {
    "duration": 0,
    "start_time": "2025-02-19T19:39:57.747Z"
   },
   {
    "duration": 0,
    "start_time": "2025-02-19T19:39:57.748Z"
   },
   {
    "duration": 0,
    "start_time": "2025-02-19T19:39:57.750Z"
   },
   {
    "duration": 25,
    "start_time": "2025-02-19T19:40:47.320Z"
   },
   {
    "duration": 145,
    "start_time": "2025-02-19T19:40:50.786Z"
   },
   {
    "duration": 68,
    "start_time": "2025-02-19T19:40:54.291Z"
   },
   {
    "duration": 682,
    "start_time": "2025-02-19T19:40:57.234Z"
   },
   {
    "duration": 149,
    "start_time": "2025-02-19T19:41:03.070Z"
   },
   {
    "duration": 326,
    "start_time": "2025-02-19T19:41:06.849Z"
   },
   {
    "duration": 144,
    "start_time": "2025-02-19T19:41:10.777Z"
   },
   {
    "duration": 20,
    "start_time": "2025-02-19T19:41:14.949Z"
   },
   {
    "duration": 307,
    "start_time": "2025-02-19T19:41:17.965Z"
   },
   {
    "duration": 104,
    "start_time": "2025-02-19T19:41:22.089Z"
   },
   {
    "duration": 95,
    "start_time": "2025-02-19T19:41:24.484Z"
   },
   {
    "duration": 200,
    "start_time": "2025-02-19T19:41:38.427Z"
   },
   {
    "duration": 84,
    "start_time": "2025-02-19T19:43:45.778Z"
   },
   {
    "duration": 144,
    "start_time": "2025-02-19T19:43:53.164Z"
   },
   {
    "duration": 3,
    "start_time": "2025-02-19T19:44:39.304Z"
   },
   {
    "duration": 76,
    "start_time": "2025-02-19T19:45:19.657Z"
   },
   {
    "duration": 74,
    "start_time": "2025-02-19T19:45:25.042Z"
   },
   {
    "duration": 8,
    "start_time": "2025-02-19T19:45:40.895Z"
   },
   {
    "duration": 266,
    "start_time": "2025-02-19T19:45:48.901Z"
   },
   {
    "duration": 564,
    "start_time": "2025-02-19T19:47:00.336Z"
   },
   {
    "duration": 432,
    "start_time": "2025-02-19T19:48:06.230Z"
   },
   {
    "duration": 41,
    "start_time": "2025-02-19T19:48:36.632Z"
   },
   {
    "duration": 42,
    "start_time": "2025-02-19T19:48:56.157Z"
   },
   {
    "duration": 451,
    "start_time": "2025-02-19T19:49:02.302Z"
   },
   {
    "duration": 3,
    "start_time": "2025-02-19T19:49:46.902Z"
   },
   {
    "duration": 4,
    "start_time": "2025-02-19T19:50:11.547Z"
   },
   {
    "duration": 3,
    "start_time": "2025-02-19T19:50:24.936Z"
   },
   {
    "duration": 715,
    "start_time": "2025-02-19T19:52:38.593Z"
   },
   {
    "duration": 235,
    "start_time": "2025-02-19T19:52:50.309Z"
   },
   {
    "duration": 3,
    "start_time": "2025-02-19T19:53:41.481Z"
   },
   {
    "duration": 457,
    "start_time": "2025-02-19T19:53:44.606Z"
   },
   {
    "duration": 4,
    "start_time": "2025-02-19T19:53:48.291Z"
   },
   {
    "duration": 25,
    "start_time": "2025-02-19T19:53:51.276Z"
   },
   {
    "duration": 140,
    "start_time": "2025-02-19T19:53:56.035Z"
   },
   {
    "duration": 69,
    "start_time": "2025-02-19T19:53:59.769Z"
   },
   {
    "duration": 733,
    "start_time": "2025-02-19T19:54:02.751Z"
   },
   {
    "duration": 708,
    "start_time": "2025-02-19T19:54:06.271Z"
   },
   {
    "duration": 103,
    "start_time": "2025-02-19T19:54:11.665Z"
   },
   {
    "duration": 86,
    "start_time": "2025-02-19T19:54:14.161Z"
   },
   {
    "duration": 251,
    "start_time": "2025-02-19T19:54:16.903Z"
   },
   {
    "duration": 10,
    "start_time": "2025-02-19T19:54:25.431Z"
   },
   {
    "duration": 282,
    "start_time": "2025-02-19T19:54:28.624Z"
   },
   {
    "duration": 103,
    "start_time": "2025-02-19T19:54:32.459Z"
   },
   {
    "duration": 321,
    "start_time": "2025-02-19T19:54:35.783Z"
   },
   {
    "duration": 44,
    "start_time": "2025-02-19T19:55:42.081Z"
   },
   {
    "duration": 4,
    "start_time": "2025-02-19T19:55:59.379Z"
   },
   {
    "duration": 83,
    "start_time": "2025-02-19T19:57:25.808Z"
   },
   {
    "duration": 519,
    "start_time": "2025-02-19T20:04:05.930Z"
   },
   {
    "duration": 3,
    "start_time": "2025-02-19T20:06:56.880Z"
   },
   {
    "duration": 124,
    "start_time": "2025-02-19T20:07:22.249Z"
   },
   {
    "duration": 232,
    "start_time": "2025-02-19T20:07:56.405Z"
   },
   {
    "duration": 9,
    "start_time": "2025-02-19T20:09:53.654Z"
   },
   {
    "duration": 476,
    "start_time": "2025-02-19T20:10:03.862Z"
   },
   {
    "duration": 25,
    "start_time": "2025-02-19T20:10:08.120Z"
   },
   {
    "duration": 154,
    "start_time": "2025-02-19T20:10:10.830Z"
   },
   {
    "duration": 65,
    "start_time": "2025-02-19T20:10:14.479Z"
   },
   {
    "duration": 729,
    "start_time": "2025-02-19T20:10:17.787Z"
   },
   {
    "duration": 714,
    "start_time": "2025-02-19T20:10:21.812Z"
   },
   {
    "duration": 104,
    "start_time": "2025-02-19T20:10:25.114Z"
   },
   {
    "duration": 131,
    "start_time": "2025-02-19T20:10:30.274Z"
   },
   {
    "duration": 84,
    "start_time": "2025-02-19T20:10:41.796Z"
   },
   {
    "duration": 299,
    "start_time": "2025-02-19T20:10:46.728Z"
   },
   {
    "duration": 18,
    "start_time": "2025-02-19T20:10:50.910Z"
   },
   {
    "duration": 338,
    "start_time": "2025-02-19T20:10:57.382Z"
   },
   {
    "duration": 82,
    "start_time": "2025-02-19T20:11:03.093Z"
   },
   {
    "duration": 207,
    "start_time": "2025-02-19T20:11:25.979Z"
   },
   {
    "duration": 4,
    "start_time": "2025-02-19T20:12:10.753Z"
   },
   {
    "duration": 4,
    "start_time": "2025-02-19T20:12:41.206Z"
   },
   {
    "duration": 4,
    "start_time": "2025-02-19T20:13:34.523Z"
   },
   {
    "duration": 204,
    "start_time": "2025-02-19T20:13:34.753Z"
   },
   {
    "duration": 4,
    "start_time": "2025-02-19T20:13:42.500Z"
   },
   {
    "duration": 34,
    "start_time": "2025-02-19T20:15:57.875Z"
   },
   {
    "duration": 269,
    "start_time": "2025-02-19T20:16:37.697Z"
   },
   {
    "duration": 19,
    "start_time": "2025-02-19T20:16:41.668Z"
   },
   {
    "duration": 314,
    "start_time": "2025-02-19T20:16:45.239Z"
   },
   {
    "duration": 32,
    "start_time": "2025-02-19T20:16:48.842Z"
   },
   {
    "duration": 81,
    "start_time": "2025-02-19T20:21:23.034Z"
   },
   {
    "duration": 3,
    "start_time": "2025-02-19T20:21:33.252Z"
   },
   {
    "duration": 474,
    "start_time": "2025-02-19T20:21:36.975Z"
   },
   {
    "duration": 28,
    "start_time": "2025-02-19T20:21:41.756Z"
   },
   {
    "duration": 152,
    "start_time": "2025-02-19T20:21:44.965Z"
   },
   {
    "duration": 74,
    "start_time": "2025-02-19T20:21:49.158Z"
   },
   {
    "duration": 726,
    "start_time": "2025-02-19T20:21:53.188Z"
   },
   {
    "duration": 750,
    "start_time": "2025-02-19T20:21:56.995Z"
   },
   {
    "duration": 100,
    "start_time": "2025-02-19T20:22:02.682Z"
   },
   {
    "duration": 132,
    "start_time": "2025-02-19T20:22:05.310Z"
   },
   {
    "duration": 302,
    "start_time": "2025-02-19T20:22:17.436Z"
   },
   {
    "duration": 17,
    "start_time": "2025-02-19T20:22:21.577Z"
   },
   {
    "duration": 301,
    "start_time": "2025-02-19T20:22:25.433Z"
   },
   {
    "duration": 170,
    "start_time": "2025-02-19T20:22:29.239Z"
   },
   {
    "duration": 97,
    "start_time": "2025-02-19T20:22:32.918Z"
   },
   {
    "duration": 418,
    "start_time": "2025-02-19T20:22:40.627Z"
   },
   {
    "duration": 8,
    "start_time": "2025-02-19T20:23:52.524Z"
   },
   {
    "duration": 4,
    "start_time": "2025-02-19T20:24:02.261Z"
   },
   {
    "duration": 9,
    "start_time": "2025-02-19T20:24:10.410Z"
   },
   {
    "duration": 11,
    "start_time": "2025-02-19T20:25:06.222Z"
   },
   {
    "duration": 9,
    "start_time": "2025-02-19T20:25:14.618Z"
   },
   {
    "duration": 12,
    "start_time": "2025-02-19T20:25:21.613Z"
   },
   {
    "duration": 17,
    "start_time": "2025-02-19T20:28:00.504Z"
   },
   {
    "duration": 25,
    "start_time": "2025-02-19T20:28:24.264Z"
   },
   {
    "duration": 981,
    "start_time": "2025-02-19T20:29:53.389Z"
   },
   {
    "duration": 495,
    "start_time": "2025-02-19T20:29:54.372Z"
   },
   {
    "duration": 26,
    "start_time": "2025-02-19T20:29:54.869Z"
   },
   {
    "duration": 151,
    "start_time": "2025-02-19T20:29:54.897Z"
   },
   {
    "duration": 113,
    "start_time": "2025-02-19T20:29:55.051Z"
   },
   {
    "duration": 4,
    "start_time": "2025-02-19T20:29:55.167Z"
   },
   {
    "duration": 739,
    "start_time": "2025-02-19T20:29:55.173Z"
   },
   {
    "duration": 734,
    "start_time": "2025-02-19T20:29:55.913Z"
   },
   {
    "duration": 112,
    "start_time": "2025-02-19T20:29:56.649Z"
   },
   {
    "duration": 146,
    "start_time": "2025-02-19T20:29:56.763Z"
   },
   {
    "duration": 4,
    "start_time": "2025-02-19T20:29:56.911Z"
   },
   {
    "duration": 305,
    "start_time": "2025-02-19T20:29:56.916Z"
   },
   {
    "duration": 27,
    "start_time": "2025-02-19T20:29:57.223Z"
   },
   {
    "duration": 326,
    "start_time": "2025-02-19T20:29:57.252Z"
   },
   {
    "duration": 9,
    "start_time": "2025-02-19T20:29:57.580Z"
   },
   {
    "duration": 220,
    "start_time": "2025-02-19T20:29:57.591Z"
   },
   {
    "duration": 107,
    "start_time": "2025-02-19T20:29:57.812Z"
   },
   {
    "duration": 342,
    "start_time": "2025-02-19T20:29:57.921Z"
   },
   {
    "duration": 989,
    "start_time": "2025-02-19T21:11:56.052Z"
   },
   {
    "duration": 483,
    "start_time": "2025-02-19T21:11:57.043Z"
   },
   {
    "duration": 29,
    "start_time": "2025-02-19T21:11:57.528Z"
   },
   {
    "duration": 151,
    "start_time": "2025-02-19T21:11:57.560Z"
   },
   {
    "duration": 71,
    "start_time": "2025-02-19T21:11:57.715Z"
   },
   {
    "duration": 3,
    "start_time": "2025-02-19T21:11:57.788Z"
   },
   {
    "duration": 714,
    "start_time": "2025-02-19T21:11:57.793Z"
   },
   {
    "duration": 704,
    "start_time": "2025-02-19T21:11:58.509Z"
   },
   {
    "duration": 110,
    "start_time": "2025-02-19T21:11:59.215Z"
   },
   {
    "duration": 152,
    "start_time": "2025-02-19T21:11:59.327Z"
   },
   {
    "duration": 3,
    "start_time": "2025-02-19T21:11:59.481Z"
   },
   {
    "duration": 287,
    "start_time": "2025-02-19T21:11:59.486Z"
   },
   {
    "duration": 17,
    "start_time": "2025-02-19T21:11:59.775Z"
   },
   {
    "duration": 329,
    "start_time": "2025-02-19T21:11:59.796Z"
   },
   {
    "duration": 8,
    "start_time": "2025-02-19T21:12:00.127Z"
   },
   {
    "duration": 181,
    "start_time": "2025-02-19T21:12:00.143Z"
   },
   {
    "duration": 103,
    "start_time": "2025-02-19T21:12:00.325Z"
   },
   {
    "duration": 423,
    "start_time": "2025-02-19T21:12:00.429Z"
   },
   {
    "duration": 184171,
    "start_time": "2025-02-19T21:12:00.854Z"
   },
   {
    "duration": 28,
    "start_time": "2025-02-19T21:17:29.979Z"
   },
   {
    "duration": 4435,
    "start_time": "2025-02-19T21:17:36.213Z"
   },
   {
    "duration": 47,
    "start_time": "2025-02-19T21:18:42.839Z"
   },
   {
    "duration": 4,
    "start_time": "2025-02-19T21:20:10.950Z"
   },
   {
    "duration": 24496,
    "start_time": "2025-02-19T21:20:16.567Z"
   },
   {
    "duration": 16,
    "start_time": "2025-02-19T21:21:22.729Z"
   },
   {
    "duration": 3362,
    "start_time": "2025-02-19T21:22:33.263Z"
   },
   {
    "duration": 3,
    "start_time": "2025-02-19T21:24:37.589Z"
   },
   {
    "duration": 4,
    "start_time": "2025-02-19T21:25:33.501Z"
   },
   {
    "duration": 4,
    "start_time": "2025-02-19T21:25:39.495Z"
   },
   {
    "duration": 299,
    "start_time": "2025-02-19T21:28:05.837Z"
   },
   {
    "duration": 5,
    "start_time": "2025-02-19T21:28:16.593Z"
   },
   {
    "duration": 4,
    "start_time": "2025-02-19T21:28:22.138Z"
   },
   {
    "duration": 4,
    "start_time": "2025-02-19T21:30:17.309Z"
   },
   {
    "duration": 3,
    "start_time": "2025-02-19T21:30:38.364Z"
   },
   {
    "duration": 17,
    "start_time": "2025-02-19T21:30:53.815Z"
   },
   {
    "duration": 4,
    "start_time": "2025-02-19T21:31:20.589Z"
   },
   {
    "duration": 3,
    "start_time": "2025-02-19T21:44:13.581Z"
   },
   {
    "duration": 372,
    "start_time": "2025-02-19T21:45:59.376Z"
   },
   {
    "duration": 181075,
    "start_time": "2025-02-19T21:49:06.336Z"
   },
   {
    "duration": 17,
    "start_time": "2025-02-19T21:52:07.413Z"
   },
   {
    "duration": 4,
    "start_time": "2025-02-19T21:52:29.975Z"
   },
   {
    "duration": 24988,
    "start_time": "2025-02-19T21:52:41.770Z"
   },
   {
    "duration": 4600,
    "start_time": "2025-02-19T21:54:18.654Z"
   },
   {
    "duration": 3342,
    "start_time": "2025-02-19T21:55:02.391Z"
   },
   {
    "duration": 181599,
    "start_time": "2025-02-19T21:55:57.024Z"
   },
   {
    "duration": 414,
    "start_time": "2025-02-19T22:00:42.430Z"
   },
   {
    "duration": 4,
    "start_time": "2025-02-19T22:02:45.956Z"
   },
   {
    "duration": 336,
    "start_time": "2025-02-19T22:05:56.921Z"
   },
   {
    "duration": 3339,
    "start_time": "2025-02-19T22:08:54.307Z"
   },
   {
    "duration": 4334,
    "start_time": "2025-02-19T22:09:03.521Z"
   },
   {
    "duration": 24508,
    "start_time": "2025-02-19T22:09:21.240Z"
   },
   {
    "duration": 181399,
    "start_time": "2025-02-19T22:09:59.725Z"
   },
   {
    "duration": 5,
    "start_time": "2025-02-19T22:13:16.321Z"
   }
  ],
  "kernelspec": {
   "display_name": "Python 3 (ipykernel)",
   "language": "python",
   "name": "python3"
  },
  "language_info": {
   "codemirror_mode": {
    "name": "ipython",
    "version": 3
   },
   "file_extension": ".py",
   "mimetype": "text/x-python",
   "name": "python",
   "nbconvert_exporter": "python",
   "pygments_lexer": "ipython3",
   "version": "3.9.19"
  },
  "toc": {
   "base_numbering": 1,
   "nav_menu": {},
   "number_sections": true,
   "sideBar": true,
   "skip_h1_title": true,
   "title_cell": "Table of Contents",
   "title_sidebar": "Contents",
   "toc_cell": false,
   "toc_position": {},
   "toc_section_display": true,
   "toc_window_display": false
  }
 },
 "nbformat": 4,
 "nbformat_minor": 2
}
